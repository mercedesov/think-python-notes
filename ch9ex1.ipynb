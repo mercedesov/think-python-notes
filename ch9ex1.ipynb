{
 "cells": [
  {
   "cell_type": "markdown",
   "id": "11c91422-5e46-47ec-8d96-4b681f76cb4a",
   "metadata": {},
   "source": [
    "Write a function called reverse_sentence that takes as an argument a string that contains any number of words separated by spaces. It should return a new string that contains the same words in reverse order. For example, if the argument is “Reverse this sentence,” the result should be “Sentence this reverse.”\n",
    "Hint: you can use the capitalize methods to capitalize the first word and convert the other words to lowercase."
   ]
  },
  {
   "cell_type": "code",
   "execution_count": 1,
   "id": "989df113-7a4d-4c64-9569-03349d86189e",
   "metadata": {},
   "outputs": [
    {
     "name": "stdout",
     "output_type": "stream",
     "text": [
      "Sentence this reverse\n"
     ]
    }
   ],
   "source": [
    "def reverse_sentence(sentence):\n",
    "        words = sentence.split()\n",
    "        reversed_words = words[::-1]\n",
    "        reversed_sentence = ' '.join(reversed_words)\n",
    "        final_sentence = reversed_sentence.capitalize()\n",
    "        return final_sentence\n",
    "\n",
    "print(reverse_sentence(\"Reverse this sentence\"))"
   ]
  },
  {
   "cell_type": "code",
   "execution_count": null,
   "id": "feab4933-908f-49dc-ba9a-e49abb798f45",
   "metadata": {},
   "outputs": [],
   "source": []
  }
 ],
 "metadata": {
  "kernelspec": {
   "display_name": "Python 3 (ipykernel)",
   "language": "python",
   "name": "python3"
  },
  "language_info": {
   "codemirror_mode": {
    "name": "ipython",
    "version": 3
   },
   "file_extension": ".py",
   "mimetype": "text/x-python",
   "name": "python",
   "nbconvert_exporter": "python",
   "pygments_lexer": "ipython3",
   "version": "3.9.6"
  }
 },
 "nbformat": 4,
 "nbformat_minor": 5
}
