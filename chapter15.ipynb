{
 "cells": [
  {
   "cell_type": "code",
   "execution_count": 61,
   "id": "3bc18521-47ce-4f33-85b4-6739d12f6a3f",
   "metadata": {},
   "outputs": [
    {
     "name": "stdout",
     "output_type": "stream",
     "text": [
      "11:59:01\n",
      "719\n"
     ]
    }
   ],
   "source": [
    "class Time:\n",
    "    \"\"\"Represents a time of day.\"\"\"\n",
    "    def __init__(self, hour=0, minute=0, second=0):\n",
    "        self.hour = hour\n",
    "        self.minute = minute\n",
    "        self.second = second\n",
    "\n",
    "def print_time(time):\n",
    "    s = f'{time.hour:02d}:{time.minute:02d}:{time.second:02d}' \n",
    "    print(s)\n",
    "\n",
    "# Create a Time object and set its attributes\n",
    "lunch = Time(11, 59, 1)\n",
    "\n",
    "# Print the time\n",
    "print_time(lunch)\n",
    "\n",
    "# Calculate total minutes\n",
    "total_minutes = lunch.hour * 60 + lunch.minute\n",
    "print(total_minutes)\n"
   ]
  },
  {
   "cell_type": "code",
   "execution_count": 62,
   "id": "30d00326-0341-471e-b955-eea4ecb03d57",
   "metadata": {},
   "outputs": [],
   "source": [
    "lunch = Time()"
   ]
  },
  {
   "cell_type": "code",
   "execution_count": 63,
   "id": "3059ab05-993d-4070-a41e-1ade2b375fb6",
   "metadata": {},
   "outputs": [
    {
     "data": {
      "text/plain": [
       "__main__.Time"
      ]
     },
     "execution_count": 63,
     "metadata": {},
     "output_type": "execute_result"
    }
   ],
   "source": [
    "type(lunch)"
   ]
  },
  {
   "cell_type": "code",
   "execution_count": 64,
   "id": "2bef5a34-37f1-439e-874f-401889f1057b",
   "metadata": {},
   "outputs": [
    {
     "name": "stdout",
     "output_type": "stream",
     "text": [
      "<__main__.Time object at 0x11b1ca1c0>\n"
     ]
    }
   ],
   "source": [
    "print(lunch)"
   ]
  },
  {
   "cell_type": "code",
   "execution_count": 65,
   "id": "35942a6c-d34c-488a-b690-a0471f3b6318",
   "metadata": {},
   "outputs": [
    {
     "name": "stdout",
     "output_type": "stream",
     "text": [
      "00:00:00\n"
     ]
    }
   ],
   "source": [
    "def print_time(time):\n",
    "    s = f'{time.hour:02d}:{time.minute:02d}:{time.second:02d}' \n",
    "    print(s)\n",
    "print_time(lunch)"
   ]
  },
  {
   "cell_type": "code",
   "execution_count": 66,
   "id": "b98a4a1c-b7f0-4f8f-9e1e-74ba9e5c2cbf",
   "metadata": {},
   "outputs": [],
   "source": [
    "def make_time(hour, minute, second): \n",
    "    time = Time()\n",
    "    time.hour = hour \n",
    "    time.minute = minute \n",
    "    time.second = second \n",
    "    return time"
   ]
  },
  {
   "cell_type": "code",
   "execution_count": 67,
   "id": "6929afd0-228f-4171-ad1d-6fa101e2d01d",
   "metadata": {},
   "outputs": [
    {
     "name": "stdout",
     "output_type": "stream",
     "text": [
      "00:00:00\n"
     ]
    }
   ],
   "source": [
    "print_time(lunch)"
   ]
  },
  {
   "cell_type": "code",
   "execution_count": 68,
   "id": "c0aeb203-bed6-4a49-a933-904da4085496",
   "metadata": {},
   "outputs": [
    {
     "name": "stdout",
     "output_type": "stream",
     "text": [
      "11:59:01\n"
     ]
    }
   ],
   "source": [
    "time = make_time(11, 59, 1)\n",
    "print_time(time)"
   ]
  },
  {
   "cell_type": "code",
   "execution_count": 69,
   "id": "8357195d-db1c-4d0e-927d-5c716edf78e0",
   "metadata": {},
   "outputs": [
    {
     "name": "stdout",
     "output_type": "stream",
     "text": [
      "09:20:00\n"
     ]
    }
   ],
   "source": [
    "start = make_time(9, 20, 0)\n",
    "print_time(start)"
   ]
  },
  {
   "cell_type": "code",
   "execution_count": 70,
   "id": "9f3d0f20-7a50-4c78-b2f9-1e7571fef435",
   "metadata": {},
   "outputs": [
    {
     "name": "stdout",
     "output_type": "stream",
     "text": [
      "10:52:00\n"
     ]
    }
   ],
   "source": [
    "start.hour += 1\n",
    "start.minute += 32\n",
    "print_time(start)"
   ]
  },
  {
   "cell_type": "code",
   "execution_count": 72,
   "id": "a5882cdf-01f1-4e09-9489-42eeaf663811",
   "metadata": {},
   "outputs": [],
   "source": [
    "def increment_time(time, hours, minutes, seconds): \n",
    "    time.hour += hours\n",
    "    time.minute += minutes\n",
    "    time.second += seconds"
   ]
  },
  {
   "cell_type": "code",
   "execution_count": 73,
   "id": "0fb08a48-d6b0-466a-a9c6-7eb80558ad37",
   "metadata": {},
   "outputs": [
    {
     "name": "stdout",
     "output_type": "stream",
     "text": [
      "10:52:00\n"
     ]
    }
   ],
   "source": [
    "start = make_time(9, 20, 0)\n",
    "increment_time(start, 1, 32, 0)\n",
    "print_time(start)"
   ]
  },
  {
   "cell_type": "code",
   "execution_count": 74,
   "id": "7054b1a7-0568-4c04-9641-b8a72edbd99c",
   "metadata": {},
   "outputs": [],
   "source": [
    "from copy import copy"
   ]
  },
  {
   "cell_type": "code",
   "execution_count": 86,
   "id": "8e8b0640-db4b-4db2-96ea-5c48cf8e1f45",
   "metadata": {},
   "outputs": [],
   "source": [
    "start = make_time(9, 40, 0)"
   ]
  },
  {
   "cell_type": "code",
   "execution_count": 87,
   "id": "63ce2843-2afe-4709-a22a-c4d97a4e62f8",
   "metadata": {},
   "outputs": [],
   "source": [
    "end = copy(start)"
   ]
  },
  {
   "cell_type": "code",
   "execution_count": 88,
   "id": "fd9b5915-2926-489d-8f07-7b02bff7e612",
   "metadata": {},
   "outputs": [
    {
     "name": "stdout",
     "output_type": "stream",
     "text": [
      "09:40:00\n",
      "09:40:00\n"
     ]
    }
   ],
   "source": [
    "print_time(start)\n",
    "print_time(end)"
   ]
  },
  {
   "cell_type": "code",
   "execution_count": 89,
   "id": "cc410eb9-0353-4592-bfff-8505a6adba06",
   "metadata": {},
   "outputs": [
    {
     "data": {
      "text/plain": [
       "False"
      ]
     },
     "execution_count": 89,
     "metadata": {},
     "output_type": "execute_result"
    }
   ],
   "source": [
    "start is end"
   ]
  },
  {
   "cell_type": "code",
   "execution_count": 90,
   "id": "e8a0a139-8850-4bf1-a77f-c5e1a19a3e8b",
   "metadata": {},
   "outputs": [
    {
     "data": {
      "text/plain": [
       "False"
      ]
     },
     "execution_count": 90,
     "metadata": {},
     "output_type": "execute_result"
    }
   ],
   "source": [
    "start == end"
   ]
  },
  {
   "cell_type": "code",
   "execution_count": 91,
   "id": "aa2569d0-61cb-4ade-8831-ce4dcd752830",
   "metadata": {},
   "outputs": [],
   "source": [
    "def add_time(time, hours, minutes, seconds):\n",
    "    total = copy(time)\n",
    "    increment_time(total, hours, minutes, seconds) \n",
    "    return total"
   ]
  },
  {
   "cell_type": "code",
   "execution_count": 92,
   "id": "376a681c-493e-4007-9360-161a9649ffa8",
   "metadata": {},
   "outputs": [
    {
     "name": "stdout",
     "output_type": "stream",
     "text": [
      "11:12:00\n"
     ]
    }
   ],
   "source": [
    "end = add_time(start, 1, 32, 0)\n",
    "print_time(end)"
   ]
  },
  {
   "cell_type": "code",
   "execution_count": 93,
   "id": "f57d72ec-bd23-4cbd-83b8-309c40b99431",
   "metadata": {},
   "outputs": [
    {
     "name": "stdout",
     "output_type": "stream",
     "text": [
      "09:40:00\n"
     ]
    }
   ],
   "source": [
    "print_time(start)"
   ]
  },
  {
   "cell_type": "code",
   "execution_count": 94,
   "id": "c314433b-9e08-486a-942e-490aa1829e4e",
   "metadata": {},
   "outputs": [],
   "source": [
    "def increment_time(time, hours, minutes, seconds):\n",
    "    time.hour += hours\n",
    "    time.minute += minutes\n",
    "    time.second += seconds\n",
    "    if time.second >= 60: \n",
    "        time.second -= 60 \n",
    "        time.minute += 1\n",
    "    if time.minute >= 60:\n",
    "        time.minute -= 60 \n",
    "        time.hour += 1"
   ]
  },
  {
   "cell_type": "code",
   "execution_count": 95,
   "id": "fd854447-5102-4aa8-a4af-b1fb4f79cff8",
   "metadata": {},
   "outputs": [
    {
     "name": "stdout",
     "output_type": "stream",
     "text": [
      "11:12:00\n"
     ]
    }
   ],
   "source": [
    "end = add_time(start, 1, 32, 0)\n",
    "print_time(end)"
   ]
  },
  {
   "cell_type": "code",
   "execution_count": 106,
   "id": "2bea032a-5b4e-443e-9814-6da7509ad3a4",
   "metadata": {},
   "outputs": [
    {
     "data": {
      "text/plain": [
       "132"
      ]
     },
     "execution_count": 106,
     "metadata": {},
     "output_type": "execute_result"
    }
   ],
   "source": [
    "end = copy(start)\n",
    "end.minute = start.minute + 92\n",
    "end.minute"
   ]
  },
  {
   "cell_type": "code",
   "execution_count": 107,
   "id": "156f84da-b2de-4301-9b29-43298aec1874",
   "metadata": {},
   "outputs": [
    {
     "name": "stdout",
     "output_type": "stream",
     "text": [
      "(2, 12)\n"
     ]
    }
   ],
   "source": [
    "carry, end.minute = divmod(end.minute, 60)\n",
    "print((carry, end.minute))"
   ]
  },
  {
   "cell_type": "code",
   "execution_count": 108,
   "id": "cdbfc755-799c-4578-8257-92c1af67c1f6",
   "metadata": {},
   "outputs": [
    {
     "name": "stdout",
     "output_type": "stream",
     "text": [
      "11:12:00\n"
     ]
    }
   ],
   "source": [
    "end.hour += carry\n",
    "print_time(end)"
   ]
  },
  {
   "cell_type": "code",
   "execution_count": 110,
   "id": "4d8243c9-42b3-40cb-b0ed-669793f5f40c",
   "metadata": {},
   "outputs": [],
   "source": [
    "def increment_time(time, hours, minutes, seconds): \n",
    "    time.hour += hours\n",
    "    time.minute += minutes\n",
    "    time.second += seconds\n",
    "    carry, time.second = divmod(time.second, 60)\n",
    "    carry, time.minute = divmod(time.minute + carry, 60)\n",
    "    carry, time.hour = divmod(time.hour + carry, 60)"
   ]
  },
  {
   "cell_type": "code",
   "execution_count": 111,
   "id": "3a9ef0e0-755a-41ea-ba90-b757e5e253ca",
   "metadata": {},
   "outputs": [
    {
     "name": "stdout",
     "output_type": "stream",
     "text": [
      "11:12:00\n"
     ]
    }
   ],
   "source": [
    "end = add_time(start, 0, 90, 120)\n",
    "print_time(end)"
   ]
  },
  {
   "cell_type": "code",
   "execution_count": 112,
   "id": "e93c708e-fa17-4d49-92d3-cca7277571b8",
   "metadata": {},
   "outputs": [],
   "source": [
    "def time_to_int(time):\n",
    "    minutes = time.hour * 60 + time.minute \n",
    "    seconds = minutes * 60 + time.second \n",
    "    return seconds"
   ]
  },
  {
   "cell_type": "code",
   "execution_count": 113,
   "id": "09f4ac65-c210-449b-80bd-6d7d363ee232",
   "metadata": {},
   "outputs": [
    {
     "name": "stdout",
     "output_type": "stream",
     "text": [
      "01:01:01\n"
     ]
    },
    {
     "data": {
      "text/plain": [
       "3661"
      ]
     },
     "execution_count": 113,
     "metadata": {},
     "output_type": "execute_result"
    }
   ],
   "source": [
    "time = make_time(1, 1, 1)\n",
    "print_time(time)\n",
    "time_to_int(time)"
   ]
  },
  {
   "cell_type": "code",
   "execution_count": 114,
   "id": "4f533b0e-b89b-4451-904c-d3aac11f960d",
   "metadata": {},
   "outputs": [],
   "source": [
    "def int_to_time(seconds):\n",
    "    minute, second = divmod(seconds, 60) \n",
    "    hour, minute = divmod(minute, 60) \n",
    "    return make_time(hour, minute, second)"
   ]
  },
  {
   "cell_type": "code",
   "execution_count": 115,
   "id": "8b433aff-a891-433c-9e51-f01cfe6f4705",
   "metadata": {},
   "outputs": [
    {
     "name": "stdout",
     "output_type": "stream",
     "text": [
      "01:01:01\n"
     ]
    }
   ],
   "source": [
    "time = int_to_time(3661)\n",
    "print_time(time)"
   ]
  },
  {
   "cell_type": "code",
   "execution_count": 116,
   "id": "aec47420-7e7a-4df1-9af1-dda7fad0d817",
   "metadata": {},
   "outputs": [],
   "source": [
    "def add_time(time, hours, minutes, seconds):\n",
    "    duration = make_time(hours, minutes, seconds) \n",
    "    seconds = time_to_int(time) + time_to_int(duration) \n",
    "    return int_to_time(seconds)"
   ]
  },
  {
   "cell_type": "code",
   "execution_count": 117,
   "id": "a46672ed-b6df-47ee-b041-248298a5195b",
   "metadata": {},
   "outputs": [
    {
     "data": {
      "text/plain": [
       "__main__.Time"
      ]
     },
     "execution_count": 117,
     "metadata": {},
     "output_type": "execute_result"
    }
   ],
   "source": [
    "type(start)"
   ]
  },
  {
   "cell_type": "code",
   "execution_count": 118,
   "id": "405d5a3c-2045-42d2-812d-99c7d0798860",
   "metadata": {},
   "outputs": [
    {
     "data": {
      "text/plain": [
       "True"
      ]
     },
     "execution_count": 118,
     "metadata": {},
     "output_type": "execute_result"
    }
   ],
   "source": [
    "isinstance(end, Time)"
   ]
  },
  {
   "cell_type": "code",
   "execution_count": 119,
   "id": "a76004e8-f4a4-4d8b-91d8-fc7ded7d2676",
   "metadata": {},
   "outputs": [
    {
     "data": {
      "text/plain": [
       "True"
      ]
     },
     "execution_count": 119,
     "metadata": {},
     "output_type": "execute_result"
    }
   ],
   "source": [
    "hasattr(start, 'hour')"
   ]
  },
  {
   "cell_type": "code",
   "execution_count": 120,
   "id": "9812fbc9-348a-4255-a6ab-1eba523680ea",
   "metadata": {},
   "outputs": [
    {
     "data": {
      "text/plain": [
       "{'hour': 9, 'minute': 40, 'second': 0}"
      ]
     },
     "execution_count": 120,
     "metadata": {},
     "output_type": "execute_result"
    }
   ],
   "source": [
    "vars(start)"
   ]
  },
  {
   "cell_type": "markdown",
   "id": "d94009c1-59c6-4e51-8891-3242a0d4f551",
   "metadata": {},
   "source": [
    "Write a function called subtract_time that takes two Time objects and returns the interval between them in seconds—assuming that they are two times during the same day."
   ]
  },
  {
   "cell_type": "code",
   "execution_count": 123,
   "id": "66e30244-1211-4578-bfb3-e20004c77285",
   "metadata": {},
   "outputs": [
    {
     "name": "stdout",
     "output_type": "stream",
     "text": [
      "8130\n"
     ]
    }
   ],
   "source": [
    "def time_to_seconds(time):\n",
    "    return time['hour'] * 3600 + time['minute'] * 60 + time['second']\n",
    "\n",
    "def subtract_time(time1, time2):\n",
    "    seconds1 = time_to_seconds(time1)\n",
    "    seconds2 = time_to_seconds(time2)\n",
    "    return abs(seconds1 - seconds2)\n",
    "\n",
    "time1 = {'hour': 12, 'minute': 30, 'second': 0}\n",
    "time2 = {'hour': 14, 'minute': 45, 'second': 30}\n",
    "\n",
    "interval = subtract_time(time1, time2)\n",
    "print(interval)\n"
   ]
  },
  {
   "cell_type": "markdown",
   "id": "93366e23-33af-4471-88f8-f8a0f25be95f",
   "metadata": {},
   "source": [
    "Write a function called is_after that takes two Time objects and returns True if the second time is later in the day than the first, and False otherwise:"
   ]
  },
  {
   "cell_type": "code",
   "execution_count": 125,
   "id": "b6e495ae-a807-4e20-885f-9387e853596c",
   "metadata": {},
   "outputs": [
    {
     "name": "stdout",
     "output_type": "stream",
     "text": [
      "True\n"
     ]
    },
    {
     "ename": "SyntaxError",
     "evalue": "'return' outside function (1194468193.py, line 21)",
     "output_type": "error",
     "traceback": [
      "\u001b[0;36m  Cell \u001b[0;32mIn[125], line 21\u001b[0;36m\u001b[0m\n\u001b[0;31m    return None\u001b[0m\n\u001b[0m    ^\u001b[0m\n\u001b[0;31mSyntaxError\u001b[0m\u001b[0;31m:\u001b[0m 'return' outside function\n"
     ]
    }
   ],
   "source": [
    "def time_to_seconds(time):\n",
    "    return time['hour'] * 3600 + time['minute'] * 60 + time['second']\n",
    "    \n",
    "def is_after(t1, t2):\n",
    "    \"\"\"Checks whether `t1` is after `t2`.\n",
    "        >>> is_after(make_time(3, 2, 1), make_time(3, 2, 0))\n",
    "        True\n",
    "        >>> is_after(make_time(3, 2, 1), make_time(3, 2, 1))\n",
    "        False\n",
    "    >>> is_after(make_time(11, 12, 0), make_time(9, 40, 0)) True\n",
    "    \"\"\"\n",
    "    return time_to_seconds(t2) > time_to_seconds(t1)\n",
    "\n",
    "\n",
    "t1 = {'hour': 12, 'minute': 30, 'second': 0}\n",
    "t2 = {'hour': 14, 'minute': 45, 'second': 30}\n",
    "\n",
    "result = is_after(t1, t2)\n",
    "print(result) \n",
    "\n",
    "return None"
   ]
  },
  {
   "cell_type": "markdown",
   "id": "9f3a5388-7e31-4dfb-ba55-6bfcd07e7910",
   "metadata": {},
   "source": [
    "1. Write a function called make_date that takes year, month, and day as parameters, makes a Date object, assigns the parameters to attributes, and returns the result as the new object. Create an object that represents June 22, 1933.\n",
    "2. Write a function called print_date that takes a Date object, uses an f-string to format the attributes, and prints the result. If you test it with the Date you cre‐ ated, the result should be 1933-06-22.\n",
    "3. Write a function called is_after that takes two Date objects as parameters and returns True if the first comes after the second. Create a second object that repre‐ sents September 17, 1933, and check whether it comes after the first object.\n",
    "Hint: you might find it useful to write a function called date_to_tuple that takes a Date object and returns a tuple that contains its attributes in year, month, day order."
   ]
  },
  {
   "cell_type": "code",
   "execution_count": null,
   "id": "6aeb84bb-c376-436a-8d3c-707d01c66d0f",
   "metadata": {},
   "outputs": [],
   "source": [
    "class Date:\n",
    "\"\"\"Represents a year, month, and day\"\"\""
   ]
  },
  {
   "cell_type": "markdown",
   "id": "fdd7d973-b1ae-4e3d-b8be-6d5ac683b4c5",
   "metadata": {},
   "source": [
    "Objects often represent things in the real world, and methods often correspond to the ways things in the real world interact."
   ]
  },
  {
   "cell_type": "code",
   "execution_count": null,
   "id": "bdfaf2ef-8ba8-4ca1-8e69-a3cdcbb6771b",
   "metadata": {},
   "outputs": [],
   "source": [
    "rewriting a function as a method, which is defined inside a class definition."
   ]
  },
  {
   "cell_type": "markdown",
   "id": "912d1247-b47b-43ce-9e08-bdfcdefe286e",
   "metadata": {},
   "source": [
    "At the same time, we’ll change the name of the parameter from time to self. This change is not necessary, but it is conventional for the first parameter of a method to be named self:\n",
    "def print_time(self):\n",
    "    s = f'{self.hour:02d}:{self.minute:02d}:{self.second:02d}'\n",
    "    print(s)"
   ]
  },
  {
   "cell_type": "markdown",
   "id": "3fa7d5f7-027f-4de1-bca0-7f3b84c8fb3d",
   "metadata": {},
   "source": [
    "Are methods just functions inside the class?"
   ]
  },
  {
   "cell_type": "code",
   "execution_count": null,
   "id": "0c05b6e6-2c33-4ac3-b63a-ba772d255258",
   "metadata": {},
   "outputs": [],
   "source": [
    "def time_to_int(time):\n",
    "    minutes = time.hour * 60 + time.minute\n",
    "    seconds = minutes * 60 + time.second \n",
    "    return seconds\n",
    "\n",
    "here’s a version rewritten as a method:\n",
    "\n",
    "%%add_method_to Time\n",
    "    def time_to_int(self):\n",
    "        minutes = self.hour * 60 + self.minute\n",
    "        seconds = minutes * 60 + self.second\n",
    "        return seconds"
   ]
  },
  {
   "cell_type": "markdown",
   "id": "c3164d86-bdb8-45a1-a042-ad264553c6e3",
   "metadata": {},
   "source": [
    "It is common to say that we “call” a function and “invoke” a method, but they mean the same thing."
   ]
  },
  {
   "cell_type": "code",
   "execution_count": null,
   "id": "79666295-f25f-483a-949b-69aacfbb618a",
   "metadata": {},
   "outputs": [],
   "source": [
    "def int_to_time(seconds):\n",
    "    minute, second = divmod(seconds, 60)\n",
    "    hour, minute = divmod(minute, 60)\n",
    "    return make_time(hour, minute, second)"
   ]
  },
  {
   "cell_type": "code",
   "execution_count": null,
   "id": "2fd9f880-d1a0-4ffc-99c3-30c99cbc6575",
   "metadata": {},
   "outputs": [],
   "source": [
    "static method, which is a method that does not require an instance of the class to be invoked\n",
    "Because it is a static method, it does not have self as a parameter.\n"
   ]
  }
 ],
 "metadata": {
  "kernelspec": {
   "display_name": "Python 3 (ipykernel)",
   "language": "python",
   "name": "python3"
  },
  "language_info": {
   "codemirror_mode": {
    "name": "ipython",
    "version": 3
   },
   "file_extension": ".py",
   "mimetype": "text/x-python",
   "name": "python",
   "nbconvert_exporter": "python",
   "pygments_lexer": "ipython3",
   "version": "3.9.6"
  }
 },
 "nbformat": 4,
 "nbformat_minor": 5
}
