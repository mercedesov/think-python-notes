{
 "cells": [
  {
   "cell_type": "code",
   "execution_count": 5,
   "id": "d393fe0f-a142-41df-9960-ceacc985e4c9",
   "metadata": {},
   "outputs": [
    {
     "name": "stdout",
     "output_type": "stream",
     "text": [
      "Initial point: (0, 0)\n",
      "After translation: (300, 0)\n",
      "Point(300, 0)\n"
     ]
    }
   ],
   "source": [
    "from copy import copy\n",
    "import turtle\n",
    "\n",
    "class Point:\n",
    "    def __init__(self, x, y):\n",
    "        self.x = x\n",
    "        self.y = y\n",
    "        \n",
    "    def translate(self, dx, dy):\n",
    "        self.x += dx\n",
    "        self.y += dy\n",
    "\n",
    "    def translated(self, dx=0, dy=0): \n",
    "        point = copy(self) \n",
    "        point.translate(dx, dy) \n",
    "        return point\n",
    "\n",
    "    def __repr__(self):\n",
    "        return f\"Point({self.x}, {self.y})\"\n",
    "\n",
    "    def __eq__(self, other):\n",
    "        return (self.x == other.x) and (self.y == other.y)\n",
    "\n",
    "start = Point(0, 0)\n",
    "\n",
    "# Print initial point\n",
    "print(f\"Initial point: ({start.x}, {start.y})\")\n",
    "\n",
    "# Copy the Point instance\n",
    "end1 = start.translated(300, 0)\n",
    "\n",
    "# Print the copied Point instance\n",
    "print(f\"After translation: ({end1.x}, {end1.y})\")\n",
    "print(end1)"
   ]
  },
  {
   "cell_type": "code",
   "execution_count": 6,
   "id": "f5a5e7ee-c11e-4da1-83e8-70a586fd2dad",
   "metadata": {},
   "outputs": [
    {
     "name": "stdout",
     "output_type": "stream",
     "text": [
      "Point(0, 150)\n"
     ]
    }
   ],
   "source": [
    "end2 = start.translated(0, 150)\n",
    "print(end2)"
   ]
  },
  {
   "cell_type": "code",
   "execution_count": 7,
   "id": "3da19625-bce7-458f-8a8b-774d4e3fe3f6",
   "metadata": {},
   "outputs": [],
   "source": [
    "class Line:\n",
    "    def __init__(self, p1, p2):\n",
    "        self.p1 = p1\n",
    "        self.p2 = p2\n",
    "    def __str__(self):\n",
    "        return f'Line({self.p1}, {self.p2})'\n",
    "    def draw(self): \n",
    "        jumpto(self.p1.x, self.p1.y) \n",
    "        moveto(self.p2.x, self.p2.y)"
   ]
  },
  {
   "cell_type": "code",
   "execution_count": 8,
   "id": "45a76f3b-6af5-428a-bcc8-78bf9c8bf9ca",
   "metadata": {},
   "outputs": [
    {
     "name": "stdout",
     "output_type": "stream",
     "text": [
      "Line(Point(0, 0), Point(300, 0))\n"
     ]
    }
   ],
   "source": [
    "line1 = Line(start, end1)\n",
    "print(line1)"
   ]
  },
  {
   "cell_type": "code",
   "execution_count": 9,
   "id": "78eab6b0-b81b-429b-95d4-fdc19a5c9b29",
   "metadata": {},
   "outputs": [
    {
     "name": "stdout",
     "output_type": "stream",
     "text": [
      "Line(Point(0, 0), Point(0, 150))\n"
     ]
    }
   ],
   "source": [
    "line2 = Line(start, end2)\n",
    "print(line2)"
   ]
  },
  {
   "cell_type": "code",
   "execution_count": 10,
   "id": "60d41bc8-d4b1-4422-b829-9db96d55b9fd",
   "metadata": {},
   "outputs": [],
   "source": [
    "p1 = Point(200, 100)\n",
    "p2 = Point(200, 100)"
   ]
  },
  {
   "cell_type": "code",
   "execution_count": 11,
   "id": "ddc83ec7-7b59-48d7-956a-899508140c4f",
   "metadata": {},
   "outputs": [
    {
     "data": {
      "text/plain": [
       "True"
      ]
     },
     "execution_count": 11,
     "metadata": {},
     "output_type": "execute_result"
    }
   ],
   "source": [
    "p1 == p2"
   ]
  },
  {
   "cell_type": "code",
   "execution_count": 16,
   "id": "94fffea0-22f0-470f-8e06-ab32eba29b65",
   "metadata": {},
   "outputs": [],
   "source": [
    "class Rectangle:\n",
    "    \"\"\"Represents a rectangle.\n",
    "    attributes: width, height, corner.\n",
    "    \"\"\"\n",
    "    def __init__(self, width, height, corner):\n",
    "            self.width = width\n",
    "            self.height = height\n",
    "            self.corner = corner\n",
    "    def __str__(self):\n",
    "        return f'Rectangle({self.width}, {self.height}, {self.corner})'\n",
    "    def make_points(self): \n",
    "        p1 = self.corner\n",
    "        p2 = p1.translated(self.width, 0) \n",
    "        p3 = p2.translated(0, self.height) \n",
    "        p4 = p3.translated(-self.width, 0) \n",
    "        return p1, p2, p3, p4"
   ]
  },
  {
   "cell_type": "code",
   "execution_count": 17,
   "id": "63b7b225-16aa-416f-9006-d5576467c0ec",
   "metadata": {},
   "outputs": [
    {
     "name": "stdout",
     "output_type": "stream",
     "text": [
      "Rectangle(100, 50, Point(30, 20))\n"
     ]
    }
   ],
   "source": [
    "corner = Point(30, 20)\n",
    "box1 = Rectangle(100, 50, corner)\n",
    "print(box1)"
   ]
  },
  {
   "cell_type": "code",
   "execution_count": 30,
   "id": "413a38cc-9a8e-4e44-b505-07bd697835b1",
   "metadata": {},
   "outputs": [
    {
     "name": "stdout",
     "output_type": "stream",
     "text": [
      "Rectangle(100, 50, Point(30, 20))\n"
     ]
    }
   ],
   "source": [
    "box2 = copy(box1)        \n",
    "print(box2)"
   ]
  },
  {
   "cell_type": "code",
   "execution_count": 33,
   "id": "7ed5f8f2-bb8d-460c-8082-80bc4cfe17ea",
   "metadata": {},
   "outputs": [],
   "source": [
    "class ImmutablePerson:\n",
    "    def __init__(self, name, age):\n",
    "        object.__setattr__(self, 'name', name)\n",
    "        object.__setattr__(self, 'age', age)\n",
    "    \n",
    "    def __setattr__(self, key, value):\n",
    "        raise AttributeError(\"Cannot modify immutable instance\")\n",
    "\n",
    "    def __delattr__(self, key):\n",
    "        raise AttributeError(\"Cannot delete attribute from immutable instance\")"
   ]
  },
  {
   "cell_type": "code",
   "execution_count": 34,
   "id": "a820ed40-f051-4204-b169-166dcb24ae80",
   "metadata": {},
   "outputs": [],
   "source": [
    "p = ImmutablePerson(name='Alice', age=30)"
   ]
  },
  {
   "cell_type": "code",
   "execution_count": 35,
   "id": "a0925ca4-24e0-4a79-be32-2915f06a3700",
   "metadata": {},
   "outputs": [
    {
     "ename": "AttributeError",
     "evalue": "Cannot modify immutable instance",
     "output_type": "error",
     "traceback": [
      "\u001b[0;31m---------------------------------------------------------------------------\u001b[0m",
      "\u001b[0;31mAttributeError\u001b[0m                            Traceback (most recent call last)",
      "Cell \u001b[0;32mIn[35], line 1\u001b[0m\n\u001b[0;32m----> 1\u001b[0m \u001b[43mp\u001b[49m\u001b[38;5;241;43m.\u001b[39;49m\u001b[43mname\u001b[49m \u001b[38;5;241m=\u001b[39m \u001b[38;5;124m'\u001b[39m\u001b[38;5;124mBob\u001b[39m\u001b[38;5;124m'\u001b[39m\n",
      "Cell \u001b[0;32mIn[33], line 7\u001b[0m, in \u001b[0;36mImmutablePerson.__setattr__\u001b[0;34m(self, key, value)\u001b[0m\n\u001b[1;32m      6\u001b[0m \u001b[38;5;28;01mdef\u001b[39;00m \u001b[38;5;21m__setattr__\u001b[39m(\u001b[38;5;28mself\u001b[39m, key, value):\n\u001b[0;32m----> 7\u001b[0m     \u001b[38;5;28;01mraise\u001b[39;00m \u001b[38;5;167;01mAttributeError\u001b[39;00m(\u001b[38;5;124m\"\u001b[39m\u001b[38;5;124mCannot modify immutable instance\u001b[39m\u001b[38;5;124m\"\u001b[39m)\n",
      "\u001b[0;31mAttributeError\u001b[0m: Cannot modify immutable instance"
     ]
    }
   ],
   "source": [
    "p.name = 'Bob'"
   ]
  },
  {
   "cell_type": "code",
   "execution_count": 36,
   "id": "353d60f4-1531-440f-86d7-cfd3b75f7324",
   "metadata": {},
   "outputs": [
    {
     "ename": "AttributeError",
     "evalue": "Cannot delete attribute from immutable instance",
     "output_type": "error",
     "traceback": [
      "\u001b[0;31m---------------------------------------------------------------------------\u001b[0m",
      "\u001b[0;31mAttributeError\u001b[0m                            Traceback (most recent call last)",
      "Cell \u001b[0;32mIn[36], line 1\u001b[0m\n\u001b[0;32m----> 1\u001b[0m \u001b[38;5;28;01mdel\u001b[39;00m p\u001b[38;5;241m.\u001b[39mage  \n",
      "Cell \u001b[0;32mIn[33], line 10\u001b[0m, in \u001b[0;36mImmutablePerson.__delattr__\u001b[0;34m(self, key)\u001b[0m\n\u001b[1;32m      9\u001b[0m \u001b[38;5;28;01mdef\u001b[39;00m \u001b[38;5;21m__delattr__\u001b[39m(\u001b[38;5;28mself\u001b[39m, key):\n\u001b[0;32m---> 10\u001b[0m     \u001b[38;5;28;01mraise\u001b[39;00m \u001b[38;5;167;01mAttributeError\u001b[39;00m(\u001b[38;5;124m\"\u001b[39m\u001b[38;5;124mCannot delete attribute from immutable instance\u001b[39m\u001b[38;5;124m\"\u001b[39m)\n",
      "\u001b[0;31mAttributeError\u001b[0m: Cannot delete attribute from immutable instance"
     ]
    }
   ],
   "source": [
    "del p.age  "
   ]
  },
  {
   "cell_type": "code",
   "execution_count": null,
   "id": "38a154af-201f-4155-9d41-e9fc25b0e4ef",
   "metadata": {},
   "outputs": [],
   "source": []
  }
 ],
 "metadata": {
  "kernelspec": {
   "display_name": "Python 3 (ipykernel)",
   "language": "python",
   "name": "python3"
  },
  "language_info": {
   "codemirror_mode": {
    "name": "ipython",
    "version": 3
   },
   "file_extension": ".py",
   "mimetype": "text/x-python",
   "name": "python",
   "nbconvert_exporter": "python",
   "pygments_lexer": "ipython3",
   "version": "3.9.6"
  }
 },
 "nbformat": 4,
 "nbformat_minor": 5
}
