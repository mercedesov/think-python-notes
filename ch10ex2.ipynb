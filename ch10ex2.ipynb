{
 "cells": [
  {
   "cell_type": "markdown",
   "id": "390a0490-1ff8-49bf-816d-edf1c514b7a3",
   "metadata": {},
   "source": [
    "Write a function named has_duplicates that takes a sequence—like a list or string— as a parameter and returns True if there is any element that appears in the sequence more than once."
   ]
  },
  {
   "cell_type": "code",
   "execution_count": 2,
   "id": "40b5eb7f-744d-4899-a717-895dcc374463",
   "metadata": {},
   "outputs": [],
   "source": [
    "def has_duplicates(sequence):\n",
    "    seen = set()\n",
    "    for element in sequence:\n",
    "        if element in seen:\n",
    "            return True\n",
    "        seen.add(element)\n",
    "    return False\n",
    "    "
   ]
  },
  {
   "cell_type": "code",
   "execution_count": 4,
   "id": "b30295bc-0ffb-44c0-b93f-60d78552b0f0",
   "metadata": {},
   "outputs": [
    {
     "name": "stdout",
     "output_type": "stream",
     "text": [
      "False\n",
      "True\n"
     ]
    }
   ],
   "source": [
    "print(has_duplicates([1, 2, 3, 4, 5]))\n",
    "print(has_duplicates([1, 2, 3, 4, 5, 2]))"
   ]
  },
  {
   "cell_type": "code",
   "execution_count": null,
   "id": "512e34f7-54bf-4a35-9cd9-1d9c25e0fd59",
   "metadata": {},
   "outputs": [],
   "source": []
  }
 ],
 "metadata": {
  "kernelspec": {
   "display_name": "Python 3 (ipykernel)",
   "language": "python",
   "name": "python3"
  },
  "language_info": {
   "codemirror_mode": {
    "name": "ipython",
    "version": 3
   },
   "file_extension": ".py",
   "mimetype": "text/x-python",
   "name": "python",
   "nbconvert_exporter": "python",
   "pygments_lexer": "ipython3",
   "version": "3.9.6"
  }
 },
 "nbformat": 4,
 "nbformat_minor": 5
}
