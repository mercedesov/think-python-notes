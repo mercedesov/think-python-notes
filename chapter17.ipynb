{
 "cells": [
  {
   "cell_type": "code",
   "execution_count": 485,
   "id": "5c39d01f-6925-42ca-815e-02a535e676c4",
   "metadata": {},
   "outputs": [],
   "source": [
    "import random\n",
    "from copy import deepcopy"
   ]
  },
  {
   "cell_type": "code",
   "execution_count": 486,
   "id": "32ff0d09-5a39-4896-a25f-f9f0b7d0960d",
   "metadata": {},
   "outputs": [],
   "source": [
    "class Card:\n",
    "    \"\"\"Represents a standard playing card.\"\"\"\n",
    "    suit_names = ['Clubs', 'Diamonds', 'Hearts', 'Spades'] \n",
    "    rank_names = [None, 'Ace', '2', '3', '4', '5', '6', '7', '8', '9', '10', 'Jack', 'Queen', 'King', 'Ace']\n",
    "    def __init__(self, suit, rank): \n",
    "        self.suit = suit\n",
    "        self.rank = rank\n",
    "    def __str__(self):\n",
    "        rank_name = Card.rank_names[self.rank] \n",
    "        suit_name = Card.suit_names[self.suit] \n",
    "        return f'{rank_name} of {suit_name}'\n",
    "    def __eq__(self, other):\n",
    "        return self.suit == other.suit and self.rank == other.rank\n",
    "    def to_tuple(self):\n",
    "        return (self.suit, self.rank)\n",
    "    def __lt__(self, other):\n",
    "        return self.to_tuple() < other.to_tuple()\n",
    "    def __le__(self, other):\n",
    "        return self.to_tuple() <= other.to_tuple()"
   ]
  },
  {
   "cell_type": "code",
   "execution_count": 487,
   "id": "1b08f38e-f979-4da9-9578-3f7c01a0ae85",
   "metadata": {},
   "outputs": [
    {
     "data": {
      "text/plain": [
       "['Clubs', 'Diamonds', 'Hearts', 'Spades']"
      ]
     },
     "execution_count": 487,
     "metadata": {},
     "output_type": "execute_result"
    }
   ],
   "source": [
    "Card.suit_names"
   ]
  },
  {
   "cell_type": "code",
   "execution_count": 488,
   "id": "3c85fb43-d540-47b1-8695-69404e7fc2fb",
   "metadata": {},
   "outputs": [
    {
     "data": {
      "text/plain": [
       "'Clubs'"
      ]
     },
     "execution_count": 488,
     "metadata": {},
     "output_type": "execute_result"
    }
   ],
   "source": [
    "Card.suit_names[0]"
   ]
  },
  {
   "cell_type": "code",
   "execution_count": 489,
   "id": "5d0df703-9e7c-44f3-8f48-f832d144e7d8",
   "metadata": {},
   "outputs": [
    {
     "data": {
      "text/plain": [
       "'Jack'"
      ]
     },
     "execution_count": 489,
     "metadata": {},
     "output_type": "execute_result"
    }
   ],
   "source": [
    "Card.rank_names[11]"
   ]
  },
  {
   "cell_type": "code",
   "execution_count": 490,
   "id": "7d210bc3-840e-4ebd-a7d3-8318141cea3c",
   "metadata": {},
   "outputs": [],
   "source": [
    "queen = Card(1, 12)"
   ]
  },
  {
   "cell_type": "code",
   "execution_count": 491,
   "id": "ffe3b3ac-e27f-462f-b421-ae2c945d5678",
   "metadata": {},
   "outputs": [
    {
     "data": {
      "text/plain": [
       "(1, 12)"
      ]
     },
     "execution_count": 491,
     "metadata": {},
     "output_type": "execute_result"
    }
   ],
   "source": [
    "queen.suit, queen.rank"
   ]
  },
  {
   "cell_type": "code",
   "execution_count": 492,
   "id": "caced858-3e63-4124-a099-431bb9e06b96",
   "metadata": {},
   "outputs": [
    {
     "data": {
      "text/plain": [
       "['Clubs', 'Diamonds', 'Hearts', 'Spades']"
      ]
     },
     "execution_count": 492,
     "metadata": {},
     "output_type": "execute_result"
    }
   ],
   "source": [
    "queen.suit_names"
   ]
  },
  {
   "cell_type": "code",
   "execution_count": 493,
   "id": "059ace65-f427-45fc-ae63-177e5fd722af",
   "metadata": {},
   "outputs": [
    {
     "name": "stdout",
     "output_type": "stream",
     "text": [
      "Queen of Diamonds\n"
     ]
    }
   ],
   "source": [
    "print(queen)"
   ]
  },
  {
   "cell_type": "code",
   "execution_count": 494,
   "id": "b9e70224-762b-4a76-b323-4f64032a9955",
   "metadata": {},
   "outputs": [
    {
     "name": "stdout",
     "output_type": "stream",
     "text": [
      "Queen of Diamonds\n"
     ]
    }
   ],
   "source": [
    "queen2 = Card(1, 12)\n",
    "print(queen2)"
   ]
  },
  {
   "cell_type": "code",
   "execution_count": 495,
   "id": "0c460395-f26f-411d-a89c-66f2a536baad",
   "metadata": {},
   "outputs": [
    {
     "data": {
      "text/plain": [
       "True"
      ]
     },
     "execution_count": 495,
     "metadata": {},
     "output_type": "execute_result"
    }
   ],
   "source": [
    "queen == queen2"
   ]
  },
  {
   "cell_type": "code",
   "execution_count": 496,
   "id": "ddd8aed5-1a8b-4aa4-aad0-041d024c3c33",
   "metadata": {},
   "outputs": [
    {
     "name": "stdout",
     "output_type": "stream",
     "text": [
      "6 of Diamonds\n"
     ]
    }
   ],
   "source": [
    "six = Card(1, 6)\n",
    "print(six)"
   ]
  },
  {
   "cell_type": "code",
   "execution_count": 497,
   "id": "db8f88d0-5a15-446b-83f1-130145d18e6c",
   "metadata": {},
   "outputs": [
    {
     "data": {
      "text/plain": [
       "False"
      ]
     },
     "execution_count": 497,
     "metadata": {},
     "output_type": "execute_result"
    }
   ],
   "source": [
    "queen == six"
   ]
  },
  {
   "cell_type": "code",
   "execution_count": 498,
   "id": "96aeb030-a5c5-479e-8b70-ddd8fc5bcc11",
   "metadata": {},
   "outputs": [
    {
     "data": {
      "text/plain": [
       "True"
      ]
     },
     "execution_count": 498,
     "metadata": {},
     "output_type": "execute_result"
    }
   ],
   "source": [
    "six < queen"
   ]
  },
  {
   "cell_type": "code",
   "execution_count": 499,
   "id": "c5dbd9d7-190e-4816-b727-9ebadf2f0a42",
   "metadata": {},
   "outputs": [
    {
     "data": {
      "text/plain": [
       "True"
      ]
     },
     "execution_count": 499,
     "metadata": {},
     "output_type": "execute_result"
    }
   ],
   "source": [
    "queen <= queen2"
   ]
  },
  {
   "cell_type": "code",
   "execution_count": 500,
   "id": "e4916d2a-9a91-4d7a-8913-d134f2bd548f",
   "metadata": {},
   "outputs": [
    {
     "data": {
      "text/plain": [
       "False"
      ]
     },
     "execution_count": 500,
     "metadata": {},
     "output_type": "execute_result"
    }
   ],
   "source": [
    "queen <= six"
   ]
  },
  {
   "cell_type": "code",
   "execution_count": 501,
   "id": "d279be28-91f7-457b-9cdf-992320d38636",
   "metadata": {},
   "outputs": [
    {
     "data": {
      "text/plain": [
       "True"
      ]
     },
     "execution_count": 501,
     "metadata": {},
     "output_type": "execute_result"
    }
   ],
   "source": [
    "queen >= six"
   ]
  },
  {
   "cell_type": "code",
   "execution_count": 502,
   "id": "6e90a014-e127-46c6-a06a-fd462ca2de42",
   "metadata": {},
   "outputs": [],
   "source": [
    "class Deck:\n",
    "    def __init__(self, cards): \n",
    "        self.cards = cards\n",
    "    \n",
    "    def make_cards(): \n",
    "        cards = []\n",
    "        for suit in range(4):\n",
    "            for rank in range(2, 15):\n",
    "                card = Card(suit, rank)\n",
    "                cards.append(card) \n",
    "        return cards\n",
    "\n",
    "    def __str__(self): \n",
    "        res = []\n",
    "        for card in self.cards: \n",
    "            res.append(str(card))\n",
    "        return '\\n'.join(res)\n",
    "\n",
    "    def take_card(self):\n",
    "        return self.cards.pop()\n",
    "\n",
    "    def put_card(self, card): \n",
    "        self.cards.append(card)\n",
    "\n",
    "    def shuffle(self):\n",
    "        random.shuffle(self.cards)"
   ]
  },
  {
   "cell_type": "code",
   "execution_count": 503,
   "id": "a2400258-2a07-48fe-b938-f19e6df986ed",
   "metadata": {},
   "outputs": [
    {
     "data": {
      "text/plain": [
       "52"
      ]
     },
     "execution_count": 503,
     "metadata": {},
     "output_type": "execute_result"
    }
   ],
   "source": [
    "cards = Deck.make_cards()\n",
    "deck = Deck(cards)\n",
    "len(deck.cards)"
   ]
  },
  {
   "cell_type": "code",
   "execution_count": 504,
   "id": "254cc295-f8f1-4885-941c-ca092c75924a",
   "metadata": {},
   "outputs": [],
   "source": [
    "small_deck = Deck([queen, six])"
   ]
  },
  {
   "cell_type": "code",
   "execution_count": 505,
   "id": "3bc085f9-5bd4-4b50-b406-3308bcae262a",
   "metadata": {},
   "outputs": [
    {
     "data": {
      "text/plain": [
       "'Queen of Diamonds\\n6 of Diamonds'"
      ]
     },
     "execution_count": 505,
     "metadata": {},
     "output_type": "execute_result"
    }
   ],
   "source": [
    "str(small_deck)"
   ]
  },
  {
   "cell_type": "code",
   "execution_count": 506,
   "id": "d719de86-3cc2-4f02-8925-ce8d570a119b",
   "metadata": {},
   "outputs": [
    {
     "name": "stdout",
     "output_type": "stream",
     "text": [
      "Queen of Diamonds\n",
      "6 of Diamonds\n"
     ]
    }
   ],
   "source": [
    "print(small_deck)"
   ]
  },
  {
   "cell_type": "code",
   "execution_count": 507,
   "id": "72fd4455-6a5f-4a2b-9235-057a319a3fb7",
   "metadata": {},
   "outputs": [
    {
     "name": "stdout",
     "output_type": "stream",
     "text": [
      "Ace of Spades\n"
     ]
    }
   ],
   "source": [
    "card = deck.take_card()\n",
    "print(card)"
   ]
  },
  {
   "cell_type": "code",
   "execution_count": 508,
   "id": "999a7bee-2f03-4c7d-b082-2138f5dd06da",
   "metadata": {},
   "outputs": [
    {
     "data": {
      "text/plain": [
       "51"
      ]
     },
     "execution_count": 508,
     "metadata": {},
     "output_type": "execute_result"
    }
   ],
   "source": [
    "len(deck.cards)"
   ]
  },
  {
   "cell_type": "code",
   "execution_count": 509,
   "id": "8718dc90-63b0-4336-8466-bdc390f4b757",
   "metadata": {},
   "outputs": [
    {
     "data": {
      "text/plain": [
       "52"
      ]
     },
     "execution_count": 509,
     "metadata": {},
     "output_type": "execute_result"
    }
   ],
   "source": [
    "deck.put_card(card)\n",
    "len(deck.cards)"
   ]
  },
  {
   "cell_type": "code",
   "execution_count": 510,
   "id": "129c4c45-ed54-4119-87a5-ea9ba9564ac8",
   "metadata": {},
   "outputs": [
    {
     "name": "stdout",
     "output_type": "stream",
     "text": [
      "3 of Spades\n",
      "5 of Clubs\n",
      "7 of Spades\n",
      "2 of Clubs\n"
     ]
    }
   ],
   "source": [
    "deck.shuffle()\n",
    "for card in deck.cards[:4]:\n",
    "    print(card)"
   ]
  },
  {
   "cell_type": "code",
   "execution_count": 511,
   "id": "a0409f7c-6389-4d71-a0bc-f56db6f3f2a7",
   "metadata": {},
   "outputs": [],
   "source": [
    "class Hand(Deck):\n",
    "    \"\"\"Represents a hand of playing cards.\"\"\"\n",
    "    def __init__(self, label=''): \n",
    "        self.label = label \n",
    "        self.cards = []\n",
    "    def move_cards(self, other, num): \n",
    "        for i in range(num):\n",
    "            card = self.take_card()\n",
    "            other.put_card(card)"
   ]
  },
  {
   "cell_type": "code",
   "execution_count": 512,
   "id": "6a8e018c-07b8-4299-b8e5-2fcbbfdf2bae",
   "metadata": {},
   "outputs": [
    {
     "data": {
      "text/plain": [
       "'player 1'"
      ]
     },
     "execution_count": 512,
     "metadata": {},
     "output_type": "execute_result"
    }
   ],
   "source": [
    "hand = Hand('player 1')\n",
    "hand.label"
   ]
  },
  {
   "cell_type": "code",
   "execution_count": 513,
   "id": "cce4abbc-b8fc-4254-9f3a-eb9b59067edc",
   "metadata": {},
   "outputs": [
    {
     "name": "stdout",
     "output_type": "stream",
     "text": [
      "4 of Diamonds\n"
     ]
    }
   ],
   "source": [
    "deck = Deck(cards)\n",
    "card = deck.take_card()\n",
    "hand.put_card(card)\n",
    "print(hand)"
   ]
  },
  {
   "cell_type": "code",
   "execution_count": 514,
   "id": "3dbfd888-d041-4dbf-8423-5b4a6e37a3b4",
   "metadata": {},
   "outputs": [],
   "source": [
    "class BridgeHand(Hand): \n",
    "    \"\"\"Represents a bridge hand.\"\"\"\n",
    "    hcp_dict = {\n",
    "        'Ace': 4,\n",
    "        'King': 3,\n",
    "        'Queen': 2,\n",
    "        'Jack': 1,\n",
    "}\n",
    "    def high_card_point_count(self):\n",
    "        count = 0\n",
    "        for card in self.cards:\n",
    "            rank_name = Card.rank_names[card.rank]\n",
    "            count += BridgeHand.hcp_dict.get(rank_name, 0) \n",
    "        return count\n",
    "\n",
    "    def move_cards(self, other, num): \n",
    "        for i in range(num):\n",
    "            card = self.take_card()\n",
    "            other.put_card(card)\n",
    "        "
   ]
  },
  {
   "cell_type": "code",
   "execution_count": 515,
   "id": "2bf72022-e0e1-4d63-b364-f5f732fac2de",
   "metadata": {},
   "outputs": [
    {
     "data": {
      "text/plain": [
       "('Queen', 2)"
      ]
     },
     "execution_count": 515,
     "metadata": {},
     "output_type": "execute_result"
    }
   ],
   "source": [
    "rank = 12\n",
    "rank_name = Card.rank_names[rank]\n",
    "score = BridgeHand.hcp_dict.get(rank_name, 0)\n",
    "rank_name, score"
   ]
  },
  {
   "cell_type": "code",
   "execution_count": 516,
   "id": "7a43cd64-94da-49b4-82f9-898ba1d98acd",
   "metadata": {},
   "outputs": [
    {
     "data": {
      "text/plain": [
       "0"
      ]
     },
     "execution_count": 516,
     "metadata": {},
     "output_type": "execute_result"
    }
   ],
   "source": [
    "hand = BridgeHand('player 2')\n",
    "hand.high_card_point_count()"
   ]
  },
  {
   "cell_type": "code",
   "execution_count": 517,
   "id": "aed9d6d7-edbb-446d-973c-a94274b933d4",
   "metadata": {},
   "outputs": [
    {
     "name": "stdout",
     "output_type": "stream",
     "text": [
      "3 of Diamonds, 10 of Diamonds, Queen of Diamonds, King of Hearts\n",
      "Winning card index: 2\n"
     ]
    }
   ],
   "source": [
    "class Card:\n",
    "    rank_names = [None, \"Ace\", \"2\", \"3\", \"4\", \"5\", \"6\", \"7\", \"8\", \"9\", \"10\", \"Jack\", \"Queen\", \"King\"]\n",
    "    suit_names = [\"Clubs\", \"Diamonds\", \"Hearts\", \"Spades\"]\n",
    "\n",
    "    def __init__(self, suit, rank):\n",
    "        self.suit = suit\n",
    "        self.rank = rank\n",
    "\n",
    "    def __str__(self):\n",
    "        return f\"{Card.rank_names[self.rank]} of {Card.suit_names[self.suit]}\"\n",
    "\n",
    "class Deck:\n",
    "    def __init__(self, cards=None):\n",
    "        self.cards = cards if cards is not None else []\n",
    "\n",
    "    def __str__(self):\n",
    "        return ', '.join(map(str, self.cards))\n",
    "\n",
    "class Trick(Deck):\n",
    "    \"\"\"Represents a trick in contract bridge.\"\"\"\n",
    "\n",
    "    def __init__(self, cards):\n",
    "        super().__init__(cards)\n",
    "\n",
    "    def find_winner(self):\n",
    "        if not self.cards:\n",
    "            raise ValueError(\"No cards in the trick\")\n",
    "\n",
    "        lead_suit = self.cards[0].suit\n",
    "        winning_index = 0\n",
    "\n",
    "        for i, card in enumerate(self.cards):\n",
    "            if card.suit == lead_suit and card.rank > self.cards[winning_index].rank:\n",
    "                winning_index = i\n",
    "\n",
    "        return winning_index\n",
    "\n",
    "\n",
    "cards = [Card(1, 3),  \n",
    "         Card(1, 10),  \n",
    "         Card(1, 12),  \n",
    "         Card(2, 13)]  \n",
    "\n",
    "trick = Trick(cards)\n",
    "print(trick)\n",
    "print(\"Winning card index:\", trick.find_winner())\n"
   ]
  },
  {
   "cell_type": "code",
   "execution_count": 518,
   "id": "099d2ebf-41f1-4a6c-a356-2d3d0aef196f",
   "metadata": {},
   "outputs": [],
   "source": [
    "class PokerHand(Hand): \n",
    "    \"\"\"Represents a poker hand.\"\"\"\n",
    "    def get_suit_counts(self): \n",
    "        counter = {}\n",
    "        for card in self.cards: \n",
    "            key = card.suit\n",
    "            counter[key] = counter.get(key, 0) + 1 \n",
    "        return counter\n",
    "    \n",
    "    def get_rank_counts(self): \n",
    "        counter = {}\n",
    "        for card in self.cards: \n",
    "            key = card.rank\n",
    "            counter[key] = counter.get(key, 0) + 1 \n",
    "        return counter"
   ]
  },
  {
   "cell_type": "markdown",
   "id": "d0640ff7-180a-4e4b-b2f5-8e779cd4b598",
   "metadata": {},
   "source": [
    "Write a method called has_straight that checks whether a hand contains a straight, which is a set of five cards with consecutive ranks. For example, if a hand contains ranks 5, 6, 7, 8, and 9, it contains a straight.\n",
    "An Ace can come before a 2 or after a King, so Ace, 2, 3, 4, 5 is a straight and so is 10, Jack, Queen, King, Ace. But a straight cannot “wrap around,” so King, Ace, 2, 3, 4 is not a straight."
   ]
  },
  {
   "cell_type": "code",
   "execution_count": 519,
   "id": "883ffa59-eb20-4d67-9439-46acfb14405c",
   "metadata": {},
   "outputs": [
    {
     "name": "stdout",
     "output_type": "stream",
     "text": [
      "5 of Diamonds, 6 of Hearts, 7 of Spades, 8 of Clubs, 9 of Diamonds\n",
      "Has straight: False\n"
     ]
    }
   ],
   "source": [
    "class Card:\n",
    "    rank_names = [None, \"Ace\", \"2\", \"3\", \"4\", \"5\", \"6\", \"7\", \"8\", \"9\", \"10\", \"Jack\", \"Queen\", \"King\"]\n",
    "    suit_names = [\"Clubs\", \"Diamonds\", \"Hearts\", \"Spades\"]\n",
    "\n",
    "    def __init__(self, suit, rank):\n",
    "        self.suit = suit\n",
    "        self.rank = rank\n",
    "\n",
    "    def __str__(self):\n",
    "        return f\"{Card.rank_names[self.rank]} of {Card.suit_names[self.suit]}\"\n",
    "\n",
    "class Deck:\n",
    "    def __init__(self, cards=None):\n",
    "        self.cards = cards if cards is not None else []\n",
    "\n",
    "    def __str__(self):\n",
    "        return ', '.join(map(str, self.cards))\n",
    "\n",
    "class Hand(Deck):\n",
    "    \"\"\"Represents a hand of playing cards.\"\"\"\n",
    "\n",
    "    def has_straight(self):\n",
    "        if len(self.cards) < 5:\n",
    "            return False\n",
    "\n",
    "        def has_straight_flush(self):\n",
    "            if len(self.cards) < 5:\n",
    "                return False\n",
    "\n",
    "        # Group cards by suit\n",
    "        suits = {}\n",
    "        for card in self.cards:\n",
    "            if card.suit not in suits:\n",
    "                suits[card.suit] = []\n",
    "            suits[card.suit].append(card.rank)\n",
    "\n",
    "        # Check each suit for a straight\n",
    "        for suit_cards in suits.values():\n",
    "            if self._has_straight(suit_cards):\n",
    "                return True\n",
    "\n",
    "        return False\n",
    "\n",
    "    def _has_straight(self, ranks):\n",
    "        \"\"\"Helper method to check if the given ranks contain a straight.\"\"\"\n",
    "        if len(ranks) < 5:\n",
    "            return False\n",
    "\n",
    "        ranks = sorted(set(ranks))\n",
    "\n",
    "        \n",
    "        ranks = sorted(card.rank for card in self.cards)\n",
    "        \n",
    "        \n",
    "        rank_set = set(ranks)\n",
    "\n",
    "        \n",
    "        for i in range(1, 10): \n",
    "            if set(range(i, i + 5)).issubset(rank_set):\n",
    "                return True\n",
    "\n",
    "        \n",
    "        if {1, 2, 3, 4, 5}.issubset(rank_set):\n",
    "            return True\n",
    "\n",
    "        \n",
    "        if {10, 11, 12, 13, 1}.issubset(rank_set):\n",
    "            return True\n",
    "\n",
    "        return False\n",
    "\n",
    "\n",
    "cards = [\n",
    "    Card(1, 5),   # 5 of Diamonds\n",
    "    Card(2, 6),   # 6 of Hearts\n",
    "    Card(3, 7),   # 7 of Spades\n",
    "    Card(0, 8),   # 8 of Clubs\n",
    "    Card(1, 9)    # 9 of Diamonds\n",
    "]\n",
    "\n",
    "hand = Hand(cards)\n",
    "print(hand)\n",
    "print(\"Has straight:\", hand.has_straight())"
   ]
  },
  {
   "cell_type": "code",
   "execution_count": 520,
   "id": "968e6513-fe2c-4442-b2dc-4e61da71a70a",
   "metadata": {},
   "outputs": [],
   "source": [
    "class PokerHand(Hand):\n",
    "    \"\"\"Represents a poker hand.\"\"\"\n",
    "\n",
    "    def has_pair(self):\n",
    "        rank_count = {}\n",
    "        \n",
    "        # Count occurrences of each rank\n",
    "        for card in self.cards:\n",
    "            if card.rank in rank_count:\n",
    "                rank_count[card.rank] += 1\n",
    "            else:\n",
    "                rank_count[card.rank] = 1\n",
    "\n",
    "        # Check for any rank with at least two occurrences\n",
    "        for count in rank_count.values():\n",
    "            if count >= 2:\n",
    "                return True\n",
    "        \n",
    "        return False\n",
    "\n",
    "    \n",
    "    def has_full_house(self):\n",
    "        if len(self.cards) != 5:\n",
    "            return False\n",
    "\n",
    "        rank_count = {}\n",
    "        \n",
    "        # Count occurrences of each rank\n",
    "        for card in self.cards:\n",
    "            if card.rank in rank_count:\n",
    "                rank_count[card.rank] += 1\n",
    "            else:\n",
    "                rank_count[card.rank] = 1\n",
    "\n",
    "        has_three = False\n",
    "        has_pair = False\n",
    "        \n",
    "        # Check for three-of-a-kind and a pair\n",
    "        for count in rank_count.values():\n",
    "            if count == 3:\n",
    "                has_three = True\n",
    "            elif count == 2:\n",
    "                has_pair = True\n",
    "\n",
    "        return has_three and has_pair\n"
   ]
  },
  {
   "cell_type": "code",
   "execution_count": 521,
   "id": "e13e60ce-c598-4c35-af35-66d62e87a050",
   "metadata": {},
   "outputs": [
    {
     "name": "stdout",
     "output_type": "stream",
     "text": [
      "Bad hand (no pairs): 2 of Clubs, 4 of Diamonds, 6 of Hearts, 8 of Spades, 10 of Clubs\n",
      "Has pair: False\n"
     ]
    }
   ],
   "source": [
    "cards_no_pairs = [\n",
    "    Card(0, 2),  # 2 of Clubs\n",
    "    Card(1, 4),  # 4 of Diamonds\n",
    "    Card(2, 6),  # 6 of Hearts\n",
    "    Card(3, 8),  # 8 of Spades\n",
    "    Card(0, 10)  # 10 of Clubs\n",
    "]\n",
    "\n",
    "bad_hand = PokerHand(cards_no_pairs)\n",
    "print(\"Bad hand (no pairs):\", bad_hand)\n",
    "print(\"Has pair:\", bad_hand.has_pair())"
   ]
  },
  {
   "cell_type": "code",
   "execution_count": 522,
   "id": "553d81e5-5648-4ea3-bad7-a3b98deba9d9",
   "metadata": {},
   "outputs": [
    {
     "name": "stdout",
     "output_type": "stream",
     "text": [
      "2 of Clubs, 4 of Diamonds, 6 of Hearts, 8 of Spades, 10 of Clubs, 2 of Diamonds\n"
     ]
    }
   ],
   "source": [
    "pair = deepcopy(bad_hand)\n",
    "pair.cards.append(Card(1, 2))\n",
    "print(pair)"
   ]
  },
  {
   "cell_type": "code",
   "execution_count": 523,
   "id": "b0164756-869c-47f8-bb2b-1b25f5280ad6",
   "metadata": {},
   "outputs": [
    {
     "data": {
      "text/plain": [
       "True"
      ]
     },
     "execution_count": 523,
     "metadata": {},
     "output_type": "execute_result"
    }
   ],
   "source": [
    "pair.has_pair()"
   ]
  },
  {
   "cell_type": "code",
   "execution_count": 524,
   "id": "4adc29e2-2f79-4577-be33-af55d928d9cc",
   "metadata": {},
   "outputs": [
    {
     "data": {
      "text/plain": [
       "False"
      ]
     },
     "execution_count": 524,
     "metadata": {},
     "output_type": "execute_result"
    }
   ],
   "source": [
    "bad_hand.has_pair()"
   ]
  },
  {
   "cell_type": "code",
   "execution_count": 525,
   "id": "d5c870dd-eb3c-41fc-9c30-a784a393ea31",
   "metadata": {},
   "outputs": [
    {
     "name": "stdout",
     "output_type": "stream",
     "text": [
      "Full house hand: 5 of Clubs, 5 of Diamonds, 5 of Hearts, 2 of Spades, 2 of Clubs\n",
      "Has full house: True\n",
      "Non-full house hand: 5 of Clubs, 5 of Diamonds, 6 of Hearts, 7 of Spades, 8 of Clubs\n",
      "Has full house: False\n"
     ]
    }
   ],
   "source": [
    "cards_full_house = [\n",
    "    Card(0, 5),  # 5 of Clubs\n",
    "    Card(1, 5),  # 5 of Diamonds\n",
    "    Card(2, 5),  # 5 of Hearts\n",
    "    Card(3, 2),  # 2 of Spades\n",
    "    Card(0, 2)   # 2 of Clubs\n",
    "]\n",
    "\n",
    "cards_not_full_house = [\n",
    "    Card(0, 5),  # 5 of Clubs\n",
    "    Card(1, 5),  # 5 of Diamonds\n",
    "    Card(2, 6),  # 6 of Hearts\n",
    "    Card(3, 7),  # 7 of Spades\n",
    "    Card(0, 8)   # 8 of Clubs\n",
    "]\n",
    "\n",
    "hand_full_house = PokerHand(cards_full_house)\n",
    "hand_not_full_house = PokerHand(cards_not_full_house)\n",
    "\n",
    "print(\"Full house hand:\", hand_full_house)\n",
    "print(\"Has full house:\", hand_full_house.has_full_house())\n",
    "\n",
    "print(\"Non-full house hand:\", hand_not_full_house)\n",
    "print(\"Has full house:\", hand_not_full_house.has_full_house())\n"
   ]
  },
  {
   "cell_type": "code",
   "execution_count": 535,
   "id": "c6039996-1091-4671-8cec-d3a22ba8075b",
   "metadata": {},
   "outputs": [
    {
     "name": "stdout",
     "output_type": "stream",
     "text": [
      "Roo has pouch contents:\n",
      "    Carrot\n",
      "    Apple\n",
      "Super Roo has pouch contents:\n",
      "    Ball\n",
      "    Ring\n",
      "    Toy\n",
      "Special Power: Super Jump\n",
      "Total items in pouch: 3\n"
     ]
    }
   ],
   "source": [
    "class Kangaroo:\n",
    "    \"\"\"A Kangaroo is a marsupial.\"\"\"\n",
    "    def __init__(self, name, contents=None):\n",
    "        \"\"\"Initialize the pouch contents.\n",
    "        name: string\n",
    "        contents: initial pouch contents.\"\"\"\n",
    "        self.name = name\n",
    "        # Use None as default and create a new list if not provided\n",
    "        self.contents = contents if contents is not None else []\n",
    "\n",
    "    def __str__(self):\n",
    "        \"\"\"Return a string representation of this Kangaroo.\"\"\"\n",
    "        t = [self.name + ' has pouch contents:']\n",
    "        for obj in self.contents:\n",
    "            s = '    ' + str(obj)  # Use str() to avoid calling object.__str__()\n",
    "            t.append(s)\n",
    "        return '\\n'.join(t)\n",
    "\n",
    "    def put_in_pouch(self, item):\n",
    "        \"\"\"Adds a new item to the pouch contents.\n",
    "        item: object to be added\"\"\"\n",
    "        self.contents.append(item)\n",
    "\n",
    "# Subclass that inherits from Kangaroo\n",
    "class SuperKangaroo(Kangaroo):\n",
    "    \"\"\"A SuperKangaroo is an enhanced Kangaroo.\"\"\"\n",
    "    def __init__(self, name, contents=None, special_power=''):\n",
    "        \"\"\"Initialize the SuperKangaroo.\n",
    "        name: string\n",
    "        contents: initial pouch contents\n",
    "        special_power: special power of the SuperKangaroo\"\"\"\n",
    "        super().__init__(name, contents)  # Call the constructor of the parent class\n",
    "        self.special_power = special_power\n",
    "\n",
    "    def __str__(self):\n",
    "        \"\"\"Return a string representation of this SuperKangaroo.\"\"\"\n",
    "        # Call the parent class __str__ method\n",
    "        base_str = super().__str__()\n",
    "        # Add special power information\n",
    "        return f\"{base_str}\\nSpecial Power: {self.special_power}\"\n",
    "\n",
    "    def total_items(self):\n",
    "        \"\"\"Return the total number of items in the pouch.\"\"\"\n",
    "        return len(self.contents)\n",
    "\n",
    "# Example usage\n",
    "kangaroo = Kangaroo(\"Roo\")\n",
    "kangaroo.put_in_pouch(\"Carrot\")\n",
    "kangaroo.put_in_pouch(\"Apple\")\n",
    "print(kangaroo)\n",
    "\n",
    "super_kangaroo = SuperKangaroo(\"Super Roo\", [\"Ball\", \"Ring\"], \"Super Jump\")\n",
    "super_kangaroo.put_in_pouch(\"Toy\")\n",
    "print(super_kangaroo)\n",
    "print(\"Total items in pouch:\", super_kangaroo.total_items())\n"
   ]
  },
  {
   "cell_type": "code",
   "execution_count": 536,
   "id": "6e78e066-4eac-4976-982f-7eb4dc40dd70",
   "metadata": {},
   "outputs": [],
   "source": [
    "kanga = Kangaroo('Kanga')\n",
    "roo = Kangaroo('Roo')"
   ]
  },
  {
   "cell_type": "code",
   "execution_count": 537,
   "id": "ac8913f5-7bce-451a-a31a-47b28e0a2645",
   "metadata": {},
   "outputs": [],
   "source": [
    "kanga.put_in_pouch('car keys')"
   ]
  },
  {
   "cell_type": "code",
   "execution_count": 538,
   "id": "c20a0b9f-5f56-48d3-a35b-9eb9d153b90b",
   "metadata": {},
   "outputs": [],
   "source": [
    "kanga.put_in_pouch('wallet')"
   ]
  },
  {
   "cell_type": "code",
   "execution_count": 539,
   "id": "6d0c84ab-053a-49f2-bc73-444aa43bf6b7",
   "metadata": {},
   "outputs": [],
   "source": [
    "kanga.put_in_pouch(roo)"
   ]
  },
  {
   "cell_type": "code",
   "execution_count": 540,
   "id": "e279277d-70aa-4f64-94eb-ee4fcf9e3d0e",
   "metadata": {},
   "outputs": [
    {
     "name": "stdout",
     "output_type": "stream",
     "text": [
      "Kanga has pouch contents:\n",
      "    car keys\n",
      "    wallet\n",
      "    Roo has pouch contents:\n"
     ]
    }
   ],
   "source": [
    "print(kanga)"
   ]
  },
  {
   "cell_type": "code",
   "execution_count": 541,
   "id": "45e3e36a-0fbf-426e-854a-2b4d3dff79e6",
   "metadata": {},
   "outputs": [
    {
     "name": "stdout",
     "output_type": "stream",
     "text": [
      "Roo has pouch contents:\n"
     ]
    }
   ],
   "source": [
    "print(roo)"
   ]
  }
 ],
 "metadata": {
  "kernelspec": {
   "display_name": "Python 3 (ipykernel)",
   "language": "python",
   "name": "python3"
  },
  "language_info": {
   "codemirror_mode": {
    "name": "ipython",
    "version": 3
   },
   "file_extension": ".py",
   "mimetype": "text/x-python",
   "name": "python",
   "nbconvert_exporter": "python",
   "pygments_lexer": "ipython3",
   "version": "3.9.6"
  }
 },
 "nbformat": 4,
 "nbformat_minor": 5
}
