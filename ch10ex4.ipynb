{
 "cells": [
  {
   "cell_type": "markdown",
   "id": "efc616d8-d534-48c1-99ea-a158dc788907",
   "metadata": {},
   "source": [
    "Write a function called add_counters that takes two dictionaries like this and returns a new dictionary that contains all of the letters and the total number of times they appear in either word."
   ]
  },
  {
   "cell_type": "code",
   "execution_count": 2,
   "id": "415b1a0f-181e-4147-9518-467e6d6686a1",
   "metadata": {},
   "outputs": [],
   "source": [
    "def value_counts(word):\n",
    "    \"\"\"Count occurrences of each letter in the word.\n",
    "    \n",
    "    word: string\n",
    "    returns: dictionary mapping letters to counts\n",
    "    \"\"\"\n",
    "    counts = {}\n",
    "    for letter in word:\n",
    "        if letter in counts:\n",
    "            counts[letter] += 1\n",
    "        else:\n",
    "            counts[letter] = 1\n",
    "    return counts\n",
    "\n",
    "def add_counters(counter1, counter2):\n",
    "    \"\"\"Combine two dictionaries of letter counts into one.\n",
    "    \n",
    "    counter1: dictionary mapping letters to counts\n",
    "    counter2: dictionary mapping letters to counts\n",
    "    returns: dictionary mapping letters to the total count from both counters\n",
    "    \"\"\"\n",
    "    combined_counter = counter1.copy() \n",
    "\n",
    "    for letter, count in counter2.items():\n",
    "        if letter in combined_counter:\n",
    "            combined_counter[letter] += count\n",
    "        else:\n",
    "            combined_counter[letter] = count\n",
    "\n",
    "    return combined_counter"
   ]
  },
  {
   "cell_type": "code",
   "execution_count": 3,
   "id": "26923618-0a4b-4a8e-95f8-7041308765aa",
   "metadata": {},
   "outputs": [
    {
     "name": "stdout",
     "output_type": "stream",
     "text": [
      "{'b': 1, 'r': 3, 'o': 3, 'n': 1, 't': 2, 's': 4, 'a': 4, 'u': 4, 'p': 1}\n"
     ]
    }
   ],
   "source": [
    "counter1 = value_counts('brontosaurus')\n",
    "counter2 = value_counts('apatosaurus')\n",
    "\n",
    "print(add_counters(counter1, counter2))\n"
   ]
  }
 ],
 "metadata": {
  "kernelspec": {
   "display_name": "Python 3 (ipykernel)",
   "language": "python",
   "name": "python3"
  },
  "language_info": {
   "codemirror_mode": {
    "name": "ipython",
    "version": 3
   },
   "file_extension": ".py",
   "mimetype": "text/x-python",
   "name": "python",
   "nbconvert_exporter": "python",
   "pygments_lexer": "ipython3",
   "version": "3.9.6"
  }
 },
 "nbformat": 4,
 "nbformat_minor": 5
}
