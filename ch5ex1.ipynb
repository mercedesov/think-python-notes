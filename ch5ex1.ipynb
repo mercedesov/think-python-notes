{
 "cells": [
  {
   "cell_type": "code",
   "execution_count": 12,
   "id": "f9d0bab1-19ff-4bed-a23b-2465c771fbbf",
   "metadata": {},
   "outputs": [],
   "source": [
    "import time"
   ]
  },
  {
   "cell_type": "code",
   "execution_count": 13,
   "id": "3b5ba03e-d444-4669-bdfc-f486afdee119",
   "metadata": {},
   "outputs": [],
   "source": [
    "current_time_seconds = time.time()"
   ]
  },
  {
   "cell_type": "code",
   "execution_count": 14,
   "id": "57196dcb-9860-4679-8ad2-3b341200dddc",
   "metadata": {},
   "outputs": [
    {
     "name": "stdout",
     "output_type": "stream",
     "text": [
      "1719508306.507089\n"
     ]
    }
   ],
   "source": [
    "print(now)"
   ]
  },
  {
   "cell_type": "code",
   "execution_count": 15,
   "id": "5ea94aa5-6770-41f0-bd1a-d54878eb4f2a",
   "metadata": {},
   "outputs": [],
   "source": [
    "#Use floor division and the modulus operator to compute the number of days since January 1, 1970,\n",
    "#and the current time of day in hours, minutes, and seconds."
   ]
  },
  {
   "cell_type": "code",
   "execution_count": 16,
   "id": "95c9b3f9-b149-4f4f-8a4a-faa2423b16b6",
   "metadata": {},
   "outputs": [],
   "source": [
    "seconds_per_day = 24 * 60 * 60  # 86400 seconds in a day\n",
    "days_since_epoch = current_time_seconds // seconds_per_day"
   ]
  },
  {
   "cell_type": "code",
   "execution_count": 17,
   "id": "519d1947-c0eb-42ab-becd-60c21b11c3f3",
   "metadata": {},
   "outputs": [],
   "source": [
    "seconds_today = current_time_seconds % seconds_per_day"
   ]
  },
  {
   "cell_type": "code",
   "execution_count": 19,
   "id": "b236f898-839b-4d9c-a4c2-1210dcc46d84",
   "metadata": {},
   "outputs": [],
   "source": [
    "hours = seconds_today // 3600  # 3600 seconds in an hour\n",
    "minutes = (seconds_today % 3600) // 60  # 60 seconds in a minute\n",
    "seconds = seconds_today % 60"
   ]
  },
  {
   "cell_type": "code",
   "execution_count": 21,
   "id": "4a819bcc-d116-45b4-97fb-9903f1d7ad70",
   "metadata": {},
   "outputs": [
    {
     "name": "stdout",
     "output_type": "stream",
     "text": [
      "Days since January 1, 1970: 19901\n",
      "Current time of day: 17:23:53.926\n"
     ]
    }
   ],
   "source": [
    "print(f\"Days since January 1, 1970: {int(days_since_epoch)}\")\n",
    "print(f\"Current time of day: {int(hours):02}:{int(minutes):02}:{seconds:06.3f}\")\n"
   ]
  },
  {
   "cell_type": "code",
   "execution_count": null,
   "id": "9d640424-2520-43a4-87eb-95dcb83f925a",
   "metadata": {},
   "outputs": [],
   "source": []
  }
 ],
 "metadata": {
  "kernelspec": {
   "display_name": "Python 3 (ipykernel)",
   "language": "python",
   "name": "python3"
  },
  "language_info": {
   "codemirror_mode": {
    "name": "ipython",
    "version": 3
   },
   "file_extension": ".py",
   "mimetype": "text/x-python",
   "name": "python",
   "nbconvert_exporter": "python",
   "pygments_lexer": "ipython3",
   "version": "3.9.6"
  }
 },
 "nbformat": 4,
 "nbformat_minor": 5
}
