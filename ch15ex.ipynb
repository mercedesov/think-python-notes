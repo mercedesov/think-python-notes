{
 "cells": [
  {
   "cell_type": "markdown",
   "id": "ee42dd1c-e963-4d23-8e51-ca161655fb6a",
   "metadata": {},
   "source": [
    "1. Write a definition for a Date class that represents a date—that is, a year, month, and day of the month.\n",
    "2. Write an __init__ method that takes year, month, and day as parameters and assigns the parameters to attributes. Create an object that represents June 22, 1933.\n",
    "3. Write a __str__ method that uses a format string to format the attributes and returns the result. If you test it with the Date you created, the result should be 1933-06-22.\n",
    "4. Write a method called is_after that takes two Date objects and returns True if the first comes after the second. Create a second object that represents September 17, 1933, and check whether it comes after the first object.\n",
    "Hint: you might find it useful to write a method called to_tuple that returns a tuple that contains the attributes of a Date object in year-month-day order."
   ]
  },
  {
   "cell_type": "code",
   "execution_count": 2,
   "id": "964faf3d-9038-4023-a1b0-b7d5ac394267",
   "metadata": {},
   "outputs": [],
   "source": [
    "class Date:\n",
    "    def __init__(self, year, month, day):\n",
    "        self.year = year\n",
    "        self.month = month\n",
    "        self.day = day\n",
    "\n",
    "    def __str__(self):\n",
    "        return f\"{self.year:04d}-{self.month:02d}-{self.day:02d}\"\n",
    "\n",
    "    def to_tuple(self):\n",
    "        return self.year, self.month, self.day\n",
    "\n",
    "    def is_after(self, other):\n",
    "        return self.to_tuple() > other.to_tuple()"
   ]
  },
  {
   "cell_type": "code",
   "execution_count": 3,
   "id": "db1ab7c1-2dbc-4111-b190-c988287f8c4e",
   "metadata": {},
   "outputs": [
    {
     "name": "stdout",
     "output_type": "stream",
     "text": [
      "1933-06-22\n"
     ]
    }
   ],
   "source": [
    "date1 = Date(1933, 6, 22)\n",
    "print(date1)  # Output: 1933-06-22"
   ]
  },
  {
   "cell_type": "code",
   "execution_count": 4,
   "id": "0f29b457-7023-4e38-800b-1dde93e2bfc7",
   "metadata": {},
   "outputs": [
    {
     "name": "stdout",
     "output_type": "stream",
     "text": [
      "1933-09-17\n",
      "True\n",
      "False\n"
     ]
    }
   ],
   "source": [
    "date2 = Date(1933, 9, 17)\n",
    "print(date2)  # Output: 1933-09-17\n",
    "\n",
    "print(date2.is_after(date1))  # Output: True\n",
    "print(date1.is_after(date2))  # Output: False"
   ]
  },
  {
   "cell_type": "code",
   "execution_count": null,
   "id": "86440a74-8463-45e0-bcf6-3c736157a2d6",
   "metadata": {},
   "outputs": [],
   "source": []
  }
 ],
 "metadata": {
  "kernelspec": {
   "display_name": "Python 3 (ipykernel)",
   "language": "python",
   "name": "python3"
  },
  "language_info": {
   "codemirror_mode": {
    "name": "ipython",
    "version": 3
   },
   "file_extension": ".py",
   "mimetype": "text/x-python",
   "name": "python",
   "nbconvert_exporter": "python",
   "pygments_lexer": "ipython3",
   "version": "3.9.6"
  }
 },
 "nbformat": 4,
 "nbformat_minor": 5
}
