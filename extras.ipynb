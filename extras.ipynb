{
 "cells": [
  {
   "cell_type": "code",
   "execution_count": 1,
   "id": "45e20f05-50a7-43cf-803d-8dd93bbc8bb4",
   "metadata": {},
   "outputs": [],
   "source": [
    "from collections import Counter\n",
    "from collections import defaultdict"
   ]
  },
  {
   "cell_type": "code",
   "execution_count": 2,
   "id": "cad0b995-64ac-4da5-8cfd-68d89d8bb312",
   "metadata": {},
   "outputs": [
    {
     "data": {
      "text/plain": [
       "set()"
      ]
     },
     "execution_count": 2,
     "metadata": {},
     "output_type": "execute_result"
    }
   ],
   "source": [
    "s1 = set()\n",
    "s1"
   ]
  },
  {
   "cell_type": "code",
   "execution_count": 3,
   "id": "d3f3d72b-b7da-42d8-9380-372d8266445b",
   "metadata": {},
   "outputs": [
    {
     "data": {
      "text/plain": [
       "{'a', 'b'}"
      ]
     },
     "execution_count": 3,
     "metadata": {},
     "output_type": "execute_result"
    }
   ],
   "source": [
    "s1.add('a')\n",
    "s1.add('b')\n",
    "s1"
   ]
  },
  {
   "cell_type": "code",
   "execution_count": 4,
   "id": "9d3f3863-637a-4cf2-85d6-3c19d927376a",
   "metadata": {},
   "outputs": [
    {
     "data": {
      "text/plain": [
       "{'a', 'c', 'd'}"
      ]
     },
     "execution_count": 4,
     "metadata": {},
     "output_type": "execute_result"
    }
   ],
   "source": [
    "s2 = set('acd')\n",
    "s2"
   ]
  },
  {
   "cell_type": "code",
   "execution_count": 5,
   "id": "a39eaa09-834b-4edc-8eb7-c91c2f735d3e",
   "metadata": {},
   "outputs": [
    {
     "data": {
      "text/plain": [
       "{'a', 'b', 'n'}"
      ]
     },
     "execution_count": 5,
     "metadata": {},
     "output_type": "execute_result"
    }
   ],
   "source": [
    "set('banana')"
   ]
  },
  {
   "cell_type": "code",
   "execution_count": 6,
   "id": "5c95c485-f087-4505-8fad-1fa52354e8aa",
   "metadata": {},
   "outputs": [
    {
     "data": {
      "text/plain": [
       "Counter({'a': 3, 'n': 2, 'b': 1})"
      ]
     },
     "execution_count": 6,
     "metadata": {},
     "output_type": "execute_result"
    }
   ],
   "source": [
    "counter = Counter('banana')\n",
    "counter"
   ]
  },
  {
   "cell_type": "code",
   "execution_count": 7,
   "id": "9f69ccc1-0683-487c-b5ab-8e695aae0c59",
   "metadata": {},
   "outputs": [
    {
     "data": {
      "text/plain": [
       "Counter({1: 3, 2: 2, 3: 1})"
      ]
     },
     "execution_count": 7,
     "metadata": {},
     "output_type": "execute_result"
    }
   ],
   "source": [
    "t = (1, 1, 1, 2, 2, 3)\n",
    "counter = Counter(t)\n",
    "counter"
   ]
  },
  {
   "cell_type": "code",
   "execution_count": 8,
   "id": "5e452dd4-e3a7-4127-9404-75dc34d8e34f",
   "metadata": {},
   "outputs": [],
   "source": [
    "def is_anagram(word1, word2):\n",
    "    return Counter(word1) == Counter(word2)"
   ]
  },
  {
   "cell_type": "code",
   "execution_count": 9,
   "id": "4b9c2a4e-2391-4037-8c2f-753a3b5f0bed",
   "metadata": {},
   "outputs": [
    {
     "data": {
      "text/plain": [
       "defaultdict(list, {})"
      ]
     },
     "execution_count": 9,
     "metadata": {},
     "output_type": "execute_result"
    }
   ],
   "source": [
    "d = defaultdict(list)\n",
    "d"
   ]
  },
  {
   "cell_type": "code",
   "execution_count": 10,
   "id": "bcc1baf9-bc89-4aea-a7e0-81cef49a5d4b",
   "metadata": {},
   "outputs": [],
   "source": [
    "def mean(*args):\n",
    "    return sum(args) / len(args)"
   ]
  },
  {
   "cell_type": "code",
   "execution_count": 11,
   "id": "64d6f5f9-08d7-4a86-891b-5c801c8287b9",
   "metadata": {},
   "outputs": [
    {
     "data": {
      "text/plain": [
       "2.0"
      ]
     },
     "execution_count": 11,
     "metadata": {},
     "output_type": "execute_result"
    }
   ],
   "source": [
    "mean(1, 2, 3)"
   ]
  },
  {
   "cell_type": "code",
   "execution_count": 12,
   "id": "55bf6d9b-18af-4f63-8ba7-415d20e111b5",
   "metadata": {},
   "outputs": [],
   "source": [
    "def mean(*args, **kwargs): \n",
    "    return sum(args) / len(args)"
   ]
  },
  {
   "cell_type": "code",
   "execution_count": 13,
   "id": "664bcb36-e213-4be4-8cac-8848c798919e",
   "metadata": {},
   "outputs": [
    {
     "data": {
      "text/plain": [
       "1.5"
      ]
     },
     "execution_count": 13,
     "metadata": {},
     "output_type": "execute_result"
    }
   ],
   "source": [
    "mean(1, 2, start=3)"
   ]
  },
  {
   "cell_type": "markdown",
   "id": "54816e2b-01d1-4ab0-b932-1866098c95a7",
   "metadata": {},
   "source": [
    "Now if we call mean with start as a keyword argument, it gets passed along to sum, which uses it as the starting point of the summation"
   ]
  },
  {
   "cell_type": "code",
   "execution_count": 14,
   "id": "6fe62ce8-1852-4f37-964a-7269c1fc8c9e",
   "metadata": {},
   "outputs": [],
   "source": [
    "def mean(*args, **kwargs):\n",
    "    return sum(args, **kwargs) / len(args)"
   ]
  },
  {
   "cell_type": "code",
   "execution_count": 15,
   "id": "84b0bc23-673b-4660-8758-ef3adb549e13",
   "metadata": {},
   "outputs": [
    {
     "data": {
      "text/plain": [
       "3.0"
      ]
     },
     "execution_count": 15,
     "metadata": {},
     "output_type": "execute_result"
    }
   ],
   "source": [
    "mean(1, 2, start=3)"
   ]
  },
  {
   "cell_type": "code",
   "execution_count": 16,
   "id": "8e426205-a2f1-4cc6-a08b-d0250fac85cd",
   "metadata": {},
   "outputs": [],
   "source": [
    "from doctest import run_docstring_examples"
   ]
  },
  {
   "cell_type": "code",
   "execution_count": 17,
   "id": "5aa15fc5-2555-4b59-ad8e-bd2927538137",
   "metadata": {},
   "outputs": [],
   "source": [
    "def run_doctests(func):\n",
    "    run_docstring_examples(func, globals(), name=func.__name__)"
   ]
  },
  {
   "cell_type": "code",
   "execution_count": 18,
   "id": "783a210a-f61e-414c-ab1b-84c9aceffe74",
   "metadata": {},
   "outputs": [],
   "source": [
    "def add(a, b):\n",
    "    \"add two numbers\"\n",
    "    return a + b"
   ]
  },
  {
   "cell_type": "code",
   "execution_count": 19,
   "id": "7d8be742-20d4-494b-a123-2832adf64908",
   "metadata": {},
   "outputs": [],
   "source": [
    "run_doctests(add)"
   ]
  },
  {
   "cell_type": "code",
   "execution_count": 20,
   "id": "ce2d8b32-12c2-41e0-9653-297fde846962",
   "metadata": {},
   "outputs": [],
   "source": [
    "from unittest import TestCase"
   ]
  },
  {
   "cell_type": "code",
   "execution_count": 21,
   "id": "1c84eb6c-60dd-4854-b115-8edb45fc52fe",
   "metadata": {},
   "outputs": [],
   "source": [
    "class TestExample(TestCase):\n",
    "    def test_add(self):\n",
    "        result = add(2, 2) \n",
    "        self.assertEqual(result, 4)"
   ]
  },
  {
   "cell_type": "code",
   "execution_count": 22,
   "id": "242bf7e5-ddb7-4a72-86fb-94a127d1a4ad",
   "metadata": {},
   "outputs": [],
   "source": [
    "import unittest\n",
    "\n",
    "def run_unittest():\n",
    "    unittest.main(argv=[''], verbosity=0, exit=False)"
   ]
  },
  {
   "cell_type": "code",
   "execution_count": 23,
   "id": "70f03d15-8556-4bb1-93a5-ef0f8d4ee792",
   "metadata": {},
   "outputs": [
    {
     "name": "stderr",
     "output_type": "stream",
     "text": [
      "----------------------------------------------------------------------\n",
      "Ran 1 test in 0.000s\n",
      "\n",
      "OK\n"
     ]
    }
   ],
   "source": [
    "run_unittest()"
   ]
  },
  {
   "cell_type": "code",
   "execution_count": 24,
   "id": "1e1377dd-b263-48c6-a10e-6e1851a8b582",
   "metadata": {},
   "outputs": [],
   "source": [
    "def test_add_broken(self):\n",
    "    result = add(2, 2) \n",
    "    self.assertEqual(result, 100)"
   ]
  },
  {
   "cell_type": "code",
   "execution_count": 25,
   "id": "97f10387-4af7-4d42-8154-8c0b14da057b",
   "metadata": {},
   "outputs": [
    {
     "name": "stderr",
     "output_type": "stream",
     "text": [
      "----------------------------------------------------------------------\n",
      "Ran 1 test in 0.000s\n",
      "\n",
      "OK\n"
     ]
    }
   ],
   "source": [
    "run_unittest()"
   ]
  },
  {
   "cell_type": "code",
   "execution_count": 29,
   "id": "422b71e2-dc60-411d-b345-6e03c576a2c4",
   "metadata": {},
   "outputs": [],
   "source": [
    "def partition(self):\n",
    "    \"\"\"Make a list of four hands, each containing only one suit.\"\"\" \n",
    "    hands = []\n",
    "    for i in range(4):\n",
    "        hands.append(PokerHand()) \n",
    "    for card in self.cards:\n",
    "        hands[card.suit].add_card(card) \n",
    "    return hands"
   ]
  },
  {
   "cell_type": "code",
   "execution_count": 30,
   "id": "7b56f26b-2b2d-4c5c-8423-99a47bf3330c",
   "metadata": {},
   "outputs": [],
   "source": [
    "from collections import defaultdict\n",
    "\n",
    "def partition(self):\n",
    "    hands = defaultdict(PokerHand)\n",
    "    for card in self.cards:\n",
    "        hands[card.suit].add_card(card)\n",
    "    return [hands[suit] for suit in range(4)]"
   ]
  },
  {
   "cell_type": "code",
   "execution_count": 31,
   "id": "9c1a91a5-fff3-484a-b8b5-d8f0da6dd733",
   "metadata": {},
   "outputs": [],
   "source": [
    "def fibonacci(n): \n",
    "    if n == 0:\n",
    "        return 0 \n",
    "    if n == 1:\n",
    "        return 1\n",
    "    return fibonacci(n-1) + fibonacci(n-2)"
   ]
  },
  {
   "cell_type": "code",
   "execution_count": 32,
   "id": "e9e836c8-3364-45c9-8a5f-56c25b16fad4",
   "metadata": {},
   "outputs": [],
   "source": [
    "def fibonacci(n):\n",
    "    return n if n <= 1 else fibonacci(n-1) + fibonacci(n-2)"
   ]
  },
  {
   "cell_type": "code",
   "execution_count": 33,
   "id": "d6d2790e-25e5-466a-8e3d-c3b4adb7f254",
   "metadata": {},
   "outputs": [],
   "source": [
    "def binomial_coeff(n, k):\n",
    "    \"\"\"Compute the binomial coefficient \"n choose k\".\n",
    "    n: number of trials\n",
    "    k: number of successes\n",
    "    returns: int \"\"\"\n",
    "    if k == 0:\n",
    "        return 1 \n",
    "    if n == 0:\n",
    "        return 0\n",
    "    return binomial_coeff(n-1, k) + binomial_coeff(n-1, k-1)"
   ]
  },
  {
   "cell_type": "code",
   "execution_count": 34,
   "id": "132d8fc5-2db3-4a7d-8bfd-2baa1779aa63",
   "metadata": {},
   "outputs": [],
   "source": [
    "def binomial_coeff(n, k, memo={}):\n",
    "    if (n, k) in memo:\n",
    "        return memo[(n, k)]\n",
    "    memo[(n, k)] = 1 if k == 0 else 0 if n == 0 else binomial_coeff(n-1, k, memo) + binomial_coeff(n-1, k-1, memo)\n",
    "    return memo[(n, k)]"
   ]
  },
  {
   "cell_type": "code",
   "execution_count": 35,
   "id": "2cdcb827-410e-47d1-b57a-2fc08de9f322",
   "metadata": {},
   "outputs": [],
   "source": [
    "def __str__(self): \n",
    "    res = []\n",
    "    for card in self.cards: \n",
    "        res.append(str(card))\n",
    "    return '\\n'.join(res)"
   ]
  },
  {
   "cell_type": "code",
   "execution_count": 36,
   "id": "2c4cafe3-b513-4f2b-9eb9-715648c36bfc",
   "metadata": {},
   "outputs": [],
   "source": [
    "def __str__(self):\n",
    "    return '\\n'.join(str(card) for card in self.cards)"
   ]
  },
  {
   "cell_type": "code",
   "execution_count": 39,
   "id": "37c74e4f-6590-4a60-8531-3979c3aa3d93",
   "metadata": {},
   "outputs": [
    {
     "name": "stdout",
     "output_type": "stream",
     "text": [
      "11\n",
      "20\n"
     ]
    }
   ],
   "source": [
    "a=10; b=20\n",
    "def my_function():\n",
    "    global a\n",
    "    a=11; b=21\n",
    "my_function()\n",
    "print(a) #prints 11\n",
    "print(b) #prints 20"
   ]
  },
  {
   "cell_type": "code",
   "execution_count": 40,
   "id": "7ccd451c-f9b5-4efa-b5c8-9e0dbc4a60df",
   "metadata": {},
   "outputs": [],
   "source": [
    "greet = 'hello world'"
   ]
  },
  {
   "cell_type": "code",
   "execution_count": 42,
   "id": "c89cfa47-5dd4-4af5-822d-c7ea61887db5",
   "metadata": {},
   "outputs": [
    {
     "name": "stdout",
     "output_type": "stream",
     "text": [
      "l\n"
     ]
    }
   ],
   "source": [
    "print(greet[1 + 2])"
   ]
  },
  {
   "cell_type": "code",
   "execution_count": 45,
   "id": "9739d826-fee6-4359-8c36-902cab387ece",
   "metadata": {},
   "outputs": [
    {
     "name": "stdout",
     "output_type": "stream",
     "text": [
      "['in', 'The', 'word', 'this', 'longest', 'sentence']\n"
     ]
    }
   ],
   "source": [
    "words = str.split('The longest word in this sentence')\n",
    "print(sorted(words, key=len))"
   ]
  },
  {
   "cell_type": "code",
   "execution_count": 49,
   "id": "58b86766-0e62-4d49-824d-81e0842e4c26",
   "metadata": {},
   "outputs": [],
   "source": [
    "def oddGen(n, m):\n",
    "    while n < m:\n",
    "        y n\n",
    "        n += 2"
   ]
  },
  {
   "cell_type": "code",
   "execution_count": 50,
   "id": "07d52387-cff4-4c12-8d42-76adab8f9309",
   "metadata": {},
   "outputs": [
    {
     "name": "stdout",
     "output_type": "stream",
     "text": [
      "3\n"
     ]
    }
   ],
   "source": [
    "print(oddGen(3,5))"
   ]
  },
  {
   "cell_type": "code",
   "execution_count": 53,
   "id": "448cb7f6-d6f9-42e6-aad3-a171dba5bcd9",
   "metadata": {},
   "outputs": [
    {
     "ename": "TypeError",
     "evalue": "'int' object is not iterable",
     "output_type": "error",
     "traceback": [
      "\u001b[0;31m---------------------------------------------------------------------------\u001b[0m",
      "\u001b[0;31mTypeError\u001b[0m                                 Traceback (most recent call last)",
      "Cell \u001b[0;32mIn[53], line 2\u001b[0m\n\u001b[1;32m      1\u001b[0m cnt \u001b[38;5;241m=\u001b[39m oddGen(\u001b[38;5;241m5\u001b[39m,\u001b[38;5;241m10\u001b[39m)\n\u001b[0;32m----> 2\u001b[0m \u001b[38;5;28;01mfor\u001b[39;00m nu \u001b[38;5;129;01min\u001b[39;00m cnt:\n\u001b[1;32m      3\u001b[0m     \u001b[38;5;28mprint\u001b[39m(nu)\n",
      "\u001b[0;31mTypeError\u001b[0m: 'int' object is not iterable"
     ]
    }
   ],
   "source": [
    "cnt = oddGen(5,10)\n",
    "for nu in cnt:\n",
    "    print(nu)\n",
    "    "
   ]
  },
  {
   "cell_type": "code",
   "execution_count": 54,
   "id": "f4088539-94f9-4167-bb08-c6de0758ce30",
   "metadata": {},
   "outputs": [
    {
     "name": "stdout",
     "output_type": "stream",
     "text": [
      "1\n",
      "2\n",
      "3\n",
      "4\n",
      "5\n"
     ]
    }
   ],
   "source": [
    "def count_up_to(max):\n",
    "    count = 1\n",
    "    while count <= max:\n",
    "        yield count\n",
    "        count += 1\n",
    "\n",
    "# Create a generator object\n",
    "counter = count_up_to(5)\n",
    "\n",
    "# Iterate over the generator\n",
    "for number in counter:\n",
    "    print(number)\n"
   ]
  },
  {
   "cell_type": "code",
   "execution_count": null,
   "id": "f66cd52d-f85d-4726-832e-82a9e1a97f53",
   "metadata": {},
   "outputs": [],
   "source": []
  }
 ],
 "metadata": {
  "kernelspec": {
   "display_name": "Python 3 (ipykernel)",
   "language": "python",
   "name": "python3"
  },
  "language_info": {
   "codemirror_mode": {
    "name": "ipython",
    "version": 3
   },
   "file_extension": ".py",
   "mimetype": "text/x-python",
   "name": "python",
   "nbconvert_exporter": "python",
   "pygments_lexer": "ipython3",
   "version": "3.9.6"
  }
 },
 "nbformat": 4,
 "nbformat_minor": 5
}
