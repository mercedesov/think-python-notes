{
 "cells": [
  {
   "cell_type": "markdown",
   "id": "047c3fb6-c35c-4dc6-aebf-ae07fa8291d7",
   "metadata": {},
   "source": [
    "Use get to write a more concise version of value_counts. You should be able to eliminate the if statement."
   ]
  },
  {
   "cell_type": "markdown",
   "id": "640613b1-d2ae-4dd0-9862-5c642a4992bf",
   "metadata": {},
   "source": [
    "def value_counts(string): \n",
    "    counter = {}\n",
    "    for letter in string:\n",
    "            if letter not in counter:\n",
    "                counter[letter] = 1 \n",
    "            else:\n",
    "                counter[letter] += 1 \n",
    "    return counter"
   ]
  },
  {
   "cell_type": "markdown",
   "id": "77dc312a-7b63-444a-85c8-235cf53dfb9a",
   "metadata": {},
   "source": [
    "counter = value_counts('brontosaurus')\n",
    "print(counter)"
   ]
  },
  {
   "cell_type": "markdown",
   "id": "1f484bf7-fad8-4211-ad81-83a0d896b3fa",
   "metadata": {},
   "source": [
    "counter.get('b', 0)"
   ]
  },
  {
   "cell_type": "markdown",
   "id": "46eccfb8-6b46-430d-b40c-af59ed26e6cc",
   "metadata": {},
   "source": [
    "counter.get('c', 0)"
   ]
  },
  {
   "cell_type": "code",
   "execution_count": 19,
   "id": "699d682c-8105-4451-bd16-9b9ad5b6f7ba",
   "metadata": {},
   "outputs": [],
   "source": [
    "def value_counts(string): \n",
    "    counter = {}\n",
    "    for letter in string:\n",
    "        counter[letter] = counter.get(letter, 0) + 1\n",
    "    return counter"
   ]
  },
  {
   "cell_type": "code",
   "execution_count": 20,
   "id": "8c5f51e7-1160-42d8-ba31-a0a74c6cf97d",
   "metadata": {},
   "outputs": [
    {
     "name": "stdout",
     "output_type": "stream",
     "text": [
      "{'b': 1, 'r': 2, 'o': 2, 'n': 1, 't': 1, 's': 2, 'a': 1, 'u': 2}\n"
     ]
    }
   ],
   "source": [
    "counter = value_counts('brontosaurus')\n",
    "print(counter)"
   ]
  },
  {
   "cell_type": "code",
   "execution_count": 21,
   "id": "30c5d068-468f-42ba-8fe9-01f14affb917",
   "metadata": {},
   "outputs": [
    {
     "data": {
      "text/plain": [
       "1"
      ]
     },
     "execution_count": 21,
     "metadata": {},
     "output_type": "execute_result"
    }
   ],
   "source": [
    "counter.get('b', 0)"
   ]
  },
  {
   "cell_type": "code",
   "execution_count": 22,
   "id": "9479fa74-7505-407a-8435-a203d8d28587",
   "metadata": {},
   "outputs": [
    {
     "data": {
      "text/plain": [
       "0"
      ]
     },
     "execution_count": 22,
     "metadata": {},
     "output_type": "execute_result"
    }
   ],
   "source": [
    "counter.get('c', 0)"
   ]
  }
 ],
 "metadata": {
  "kernelspec": {
   "display_name": "Python 3 (ipykernel)",
   "language": "python",
   "name": "python3"
  },
  "language_info": {
   "codemirror_mode": {
    "name": "ipython",
    "version": 3
   },
   "file_extension": ".py",
   "mimetype": "text/x-python",
   "name": "python",
   "nbconvert_exporter": "python",
   "pygments_lexer": "ipython3",
   "version": "3.9.6"
  }
 },
 "nbformat": 4,
 "nbformat_minor": 5
}
