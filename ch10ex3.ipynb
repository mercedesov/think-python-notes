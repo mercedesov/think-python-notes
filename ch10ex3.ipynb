{
 "cells": [
  {
   "cell_type": "markdown",
   "id": "3abfcee5-42c1-45d3-b660-197df72d38db",
   "metadata": {},
   "source": [
    "Write a function called find_repeats that takes a dictionary that maps from each key to a counter, like the result from value_counts. It should loop through the dictionary and return a list of keys that have counts greater than 1. You can use the following outline to get started:"
   ]
  },
  {
   "cell_type": "code",
   "execution_count": 6,
   "id": "d3792896-34f8-4d88-ac78-56892e76b7e4",
   "metadata": {},
   "outputs": [],
   "source": [
    "def find_repeats(counter):\n",
    "    \"\"\"Makes a list of keys with values greater than 1.\n",
    "    \n",
    "    counter: dictionary that maps from keys to counts\n",
    "    returns: list of keys\n",
    "    \"\"\"\n",
    "    list = []\n",
    "    \n",
    "    for key, count in counter.items():\n",
    "        if count > 1:\n",
    "            list.append(key)\n",
    "    \n",
    "    return list"
   ]
  },
  {
   "cell_type": "code",
   "execution_count": 7,
   "id": "be447ce6-5dbe-4904-be91-f3a1a3ae4bcc",
   "metadata": {},
   "outputs": [
    {
     "name": "stdout",
     "output_type": "stream",
     "text": [
      "['a', 'c']\n"
     ]
    }
   ],
   "source": [
    "sample_counter = {'a': 3, 'b': 1, 'c': 2, 'd': 1}\n",
    "print(find_repeats(sample_counter))"
   ]
  }
 ],
 "metadata": {
  "kernelspec": {
   "display_name": "Python 3 (ipykernel)",
   "language": "python",
   "name": "python3"
  },
  "language_info": {
   "codemirror_mode": {
    "name": "ipython",
    "version": 3
   },
   "file_extension": ".py",
   "mimetype": "text/x-python",
   "name": "python",
   "nbconvert_exporter": "python",
   "pygments_lexer": "ipython3",
   "version": "3.9.6"
  }
 },
 "nbformat": 4,
 "nbformat_minor": 5
}
