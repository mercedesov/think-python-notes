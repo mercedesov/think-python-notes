{
 "cells": [
  {
   "cell_type": "code",
   "execution_count": 1,
   "id": "c758b367-0d64-4053-8cac-b6efc7d34e83",
   "metadata": {},
   "outputs": [],
   "source": [
    "#The greatest common divisor (GCD) of a and b is the largest number that divides both of them with no remainder.\n",
    "#One way to find the GCD of two numbers is based on the observation that if r is the remainder when a is divided \n",
    "#by b, then gcd a,b = gcd b,r . As a base case, we can usegcda,0 =a.\n",
    "#Write a function called gcd that takes parameters a and b and returns their greatest common divisor."
   ]
  },
  {
   "cell_type": "code",
   "execution_count": 2,
   "id": "fc35666c-6e43-40d1-9f55-05aad5452163",
   "metadata": {},
   "outputs": [
    {
     "name": "stdout",
     "output_type": "stream",
     "text": [
      "6\n"
     ]
    }
   ],
   "source": [
    "def gcd(a, b):\n",
    "    while b != 0:\n",
    "        r = a % b\n",
    "        a = b\n",
    "        b = r\n",
    "    return a\n",
    "\n",
    "\n",
    "print(gcd(48, 18)) \n",
    "        "
   ]
  }
 ],
 "metadata": {
  "kernelspec": {
   "display_name": "Python 3 (ipykernel)",
   "language": "python",
   "name": "python3"
  },
  "language_info": {
   "codemirror_mode": {
    "name": "ipython",
    "version": 3
   },
   "file_extension": ".py",
   "mimetype": "text/x-python",
   "name": "python",
   "nbconvert_exporter": "python",
   "pygments_lexer": "ipython3",
   "version": "3.9.6"
  }
 },
 "nbformat": 4,
 "nbformat_minor": 5
}
