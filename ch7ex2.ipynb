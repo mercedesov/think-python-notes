{
 "cells": [
  {
   "cell_type": "code",
   "execution_count": 15,
   "id": "11ce98b5-84dd-40c4-b895-7dd3027f8fa7",
   "metadata": {},
   "outputs": [
    {
     "name": "stdout",
     "output_type": "stream",
     "text": [
      "True\n",
      "False\n"
     ]
    }
   ],
   "source": [
    "def uses_all(word, required):\n",
    "    \"\"\"Checks whether a word uses all required letters.\n",
    "    >>> uses_all('banana', 'ban')\n",
    "    True\n",
    "    >>> uses_all('apple', 'api')\n",
    "    False\n",
    "    \"\"\"\n",
    "    for letter in required:\n",
    "        if letter not in word:\n",
    "            return False\n",
    "    return True  \n",
    "\n",
    "# Test cases\n",
    "print(uses_all('banana', 'ban'))\n",
    "print(uses_all('apple', 'api'))"
   ]
  },
  {
   "cell_type": "code",
   "execution_count": 16,
   "id": "aac9c0b2-de6a-405c-ab80-72f514b436c5",
   "metadata": {},
   "outputs": [
    {
     "name": "stdout",
     "output_type": "stream",
     "text": [
      "True\n"
     ]
    }
   ],
   "source": [
    "print(uses_all('banana', 'ban'))"
   ]
  },
  {
   "cell_type": "code",
   "execution_count": 17,
   "id": "d2d31eaf-b2d7-4fec-9a3e-f243e9b0f157",
   "metadata": {},
   "outputs": [
    {
     "name": "stdout",
     "output_type": "stream",
     "text": [
      "False\n"
     ]
    }
   ],
   "source": [
    "print(uses_all('apple', 'api')) "
   ]
  },
  {
   "cell_type": "code",
   "execution_count": 18,
   "id": "22f3ee56-679c-428e-8607-4a82798bff85",
   "metadata": {},
   "outputs": [
    {
     "name": "stdout",
     "output_type": "stream",
     "text": [
      "False\n"
     ]
    }
   ],
   "source": [
    "print(uses_all('grape', 'gpz')) "
   ]
  },
  {
   "cell_type": "code",
   "execution_count": null,
   "id": "842b7964-46ea-44d5-aed2-1c18b2411e1b",
   "metadata": {},
   "outputs": [],
   "source": []
  }
 ],
 "metadata": {
  "kernelspec": {
   "display_name": "Python 3 (ipykernel)",
   "language": "python",
   "name": "python3"
  },
  "language_info": {
   "codemirror_mode": {
    "name": "ipython",
    "version": 3
   },
   "file_extension": ".py",
   "mimetype": "text/x-python",
   "name": "python",
   "nbconvert_exporter": "python",
   "pygments_lexer": "ipython3",
   "version": "3.9.6"
  }
 },
 "nbformat": 4,
 "nbformat_minor": 5
}
