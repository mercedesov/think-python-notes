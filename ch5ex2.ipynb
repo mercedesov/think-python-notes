{
 "cells": [
  {
   "cell_type": "code",
   "execution_count": 9,
   "id": "61ff85da-5aef-44a2-b56a-4d310c03353a",
   "metadata": {},
   "outputs": [],
   "source": [
    "def hypot(leg1,leg2):\n",
    "    '''returns the length of\n",
    "       the hypotenuse of a right\n",
    "       triangle given the lengths of\n",
    "       the other two legs as arguments'''\n",
    "    hyp = leg1**2 + leg2**2\n",
    "    return hyp ** 0.5"
   ]
  },
  {
   "cell_type": "code",
   "execution_count": 10,
   "id": "8e8e304c-e285-4ea5-b707-435e15bcdcc1",
   "metadata": {},
   "outputs": [
    {
     "data": {
      "text/plain": [
       "35.35533905932738"
      ]
     },
     "execution_count": 10,
     "metadata": {},
     "output_type": "execute_result"
    }
   ],
   "source": [
    "hypot(25, 25)"
   ]
  }
 ],
 "metadata": {
  "kernelspec": {
   "display_name": "Python 3 (ipykernel)",
   "language": "python",
   "name": "python3"
  },
  "language_info": {
   "codemirror_mode": {
    "name": "ipython",
    "version": 3
   },
   "file_extension": ".py",
   "mimetype": "text/x-python",
   "name": "python",
   "nbconvert_exporter": "python",
   "pygments_lexer": "ipython3",
   "version": "3.9.6"
  }
 },
 "nbformat": 4,
 "nbformat_minor": 5
}
