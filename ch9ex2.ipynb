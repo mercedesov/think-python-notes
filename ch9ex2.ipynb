{
 "cells": [
  {
   "cell_type": "markdown",
   "id": "600db1b0-c57f-4d50-88cd-be32d20e42cc",
   "metadata": {},
   "source": [
    "Write a function called total_length that takes a list of strings and returns the total length of the strings. The total length of the words in word_list should be 902,728."
   ]
  },
  {
   "cell_type": "code",
   "execution_count": 18,
   "id": "2869eff2-d3e5-4df3-94b2-7e5a063e64de",
   "metadata": {},
   "outputs": [
    {
     "name": "stdout",
     "output_type": "stream",
     "text": [
      "9020770\n"
     ]
    }
   ],
   "source": [
    "def total_length(lst):\n",
    "    total_length = 0\n",
    "    for s in lst:\n",
    "        total_length += len(s)\n",
    "    return(total_length)\n",
    "\n",
    "w1 = ['words', 'to', 'test']\n",
    "w2 = w1 * 820070\n",
    "w3 = [\n",
    "]\n",
    "print(total_length(w2))"
   ]
  },
  {
   "cell_type": "code",
   "execution_count": null,
   "id": "65b1db6b-3810-4b45-9eb9-8ea49accb8d7",
   "metadata": {},
   "outputs": [],
   "source": []
  }
 ],
 "metadata": {
  "kernelspec": {
   "display_name": "Python 3 (ipykernel)",
   "language": "python",
   "name": "python3"
  },
  "language_info": {
   "codemirror_mode": {
    "name": "ipython",
    "version": 3
   },
   "file_extension": ".py",
   "mimetype": "text/x-python",
   "name": "python",
   "nbconvert_exporter": "python",
   "pygments_lexer": "ipython3",
   "version": "3.9.6"
  }
 },
 "nbformat": 4,
 "nbformat_minor": 5
}
