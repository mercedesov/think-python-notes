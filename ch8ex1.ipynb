{
 "cells": [
  {
   "cell_type": "code",
   "execution_count": 6,
   "id": "b701faff-6b3d-481b-b712-df14259f8606",
   "metadata": {},
   "outputs": [],
   "source": [
    "def head(inp, linenum, out):\n",
    "    infile = open(inp, 'r')\n",
    "    lines = []\n",
    "    line_count = 0\n",
    "\n",
    "    for line in infile:\n",
    "        if line_count >= linenum:\n",
    "            break\n",
    "        lines.append(line)\n",
    "        line_count += 1\n",
    "\n",
    "    infile.close()\n",
    "    \n",
    "    if out is None:\n",
    "        \n",
    "        for line in lines:\n",
    "            print(line, end='')\n",
    "    else:\n",
    "        outfile = open(out, 'w')\n",
    "        outfile.writelines(lines)\n",
    "        outfile.close()"
   ]
  },
  {
   "cell_type": "code",
   "execution_count": null,
   "id": "520a4a31-a167-4061-9a41-f183db44799b",
   "metadata": {},
   "outputs": [],
   "source": [
    "head('foo.txt', 10, None)   # Prints the first 10 lines of 'foo.txt' to the console\n",
    "head('bar.txt', 10, 'baz.txt')  # Writes the first 10 lines of 'bar.txt' to 'baz.txt'"
   ]
  }
 ],
 "metadata": {
  "kernelspec": {
   "display_name": "Python 3 (ipykernel)",
   "language": "python",
   "name": "python3"
  },
  "language_info": {
   "codemirror_mode": {
    "name": "ipython",
    "version": 3
   },
   "file_extension": ".py",
   "mimetype": "text/x-python",
   "name": "python",
   "nbconvert_exporter": "python",
   "pygments_lexer": "ipython3",
   "version": "3.9.6"
  }
 },
 "nbformat": 4,
 "nbformat_minor": 5
}
