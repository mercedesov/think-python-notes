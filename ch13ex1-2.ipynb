{
 "cells": [
  {
   "cell_type": "markdown",
   "id": "c8de457d-c235-4b3c-ae37-1762a547199d",
   "metadata": {},
   "source": [
    "Write a function called replace_all that takes as arguments a pattern string, a replacement string, and two filenames. It should read the first file and write the con‐ tents into the second file (creating it, if necessary). If the pattern string appears any‐ where in the contents, it should be replaced with the replacement string.\n",
    "To test your function, read the file photos/notes.txt, replace 'photos' with 'images', and write the result to the file photos/new_notes.txt."
   ]
  },
  {
   "cell_type": "code",
   "execution_count": null,
   "id": "e85e32c8-da3f-4037-a601-8610acf2859c",
   "metadata": {},
   "outputs": [],
   "source": [
    "def replace_all(pattern, replacement, src, dst):\n",
    "    with open(src, 'r'):\n",
    "        content = src.read()\n",
    "\n",
    "    content = content.replace(pattern, replacement)\n",
    "\n",
    "    with open(dst, 'w'):\n",
    "        dst.write(content)\n",
    "\n",
    "    print(f\"Replaced all occurrences of '{pattern}' with '{replacement}' in {src} and saved to {dst}.\")\n",
    "\n",
    "replace_all('photos', 'images', 'photos/notes.txt', 'photos/new_notes.txt')\n"
   ]
  },
  {
   "cell_type": "markdown",
   "id": "af969298-7f57-44b2-a91c-f705ba7699af",
   "metadata": {},
   "source": [
    "Write a function called add_word that takes as arguments a string and a shelf object. It should sort the letters of the word to make a key, then check whether the key is already in the shelf. If not, it should make a list that contains the new word and add it to the shelf. If the key is already in the shelf, it should append the new word to the existing value."
   ]
  },
  {
   "cell_type": "code",
   "execution_count": 34,
   "id": "063c310c-1cf6-41a0-b975-79251c21cfe3",
   "metadata": {},
   "outputs": [],
   "source": [
    "import shelve\n",
    "\n",
    "def add_word(word, shelf):\n",
    "    key = ''.join(sorted(word))\n",
    "    if key in shelf:\n",
    "        shelf[key].append(word)\n",
    "    else:\n",
    "        shelf[key] = [word]\n",
    "\n",
    "    shelf.sync()\n",
    "\n",
    "with shelve.open('my_shelf.db') as shelf:\n",
    "    add_word('foo', shelf)\n",
    "    add_word('bar', shelf)\n",
    "    add_word('baz', shelf)\n"
   ]
  },
  {
   "cell_type": "code",
   "execution_count": null,
   "id": "b695e4ef-46d9-4eb5-9d42-23fcc84ad1a1",
   "metadata": {},
   "outputs": [],
   "source": []
  }
 ],
 "metadata": {
  "kernelspec": {
   "display_name": "Python 3 (ipykernel)",
   "language": "python",
   "name": "python3"
  },
  "language_info": {
   "codemirror_mode": {
    "name": "ipython",
    "version": 3
   },
   "file_extension": ".py",
   "mimetype": "text/x-python",
   "name": "python",
   "nbconvert_exporter": "python",
   "pygments_lexer": "ipython3",
   "version": "3.9.6"
  }
 },
 "nbformat": 4,
 "nbformat_minor": 5
}
